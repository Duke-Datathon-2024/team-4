{
  "cells": [
    {
      "cell_type": "markdown",
      "metadata": {
        "id": "7pizABRCI3Cq"
      },
      "source": [
        "## Links to files\n",
        "- [welcome to the Duke Datathon 2024](https://colab.research.google.com/drive/1OsxF1EGvdl9ARSPUSLU2xn7MkDh2tCsJ#scrollTo=7pizABRCI3Cq) (this file)\n",
        "  - [welcome - participants (Duke Datathon 2024)](https://colab.research.google.com/drive/1t7KvlLV44qezRXgRH_tKi-nb5InK7C-7)\n",
        "  - [welcome - mentors]() (to be released)\n",
        "- [Duke Datathon 2024 Frequently Asked Questions (FAQ)](https://docs.google.com/document/d/1eDas_wF7mxbRNJgplQvUMogD4fWupdxWWsaQ_tlckpU/edit)\n",
        "\n",
        "## YouTube Videos\n",
        "- [How to set up Physionet (MIMIC, eICU) for BigQuery](https://www.youtube.com/watch?v=N6fqg2QaNN8)\n",
        "- [How to Register for GitHub (and get a GitHub ID)](https://youtu.be/uL5QCAmRbVI)\n",
        "- [How to analyze PhysioNet EHR data with Jupyter/BigQuery](https://youtu.be/VDyw4ONIxMI)\n",
        "\n",
        "\n",
        "\n"
      ]
    },
    {
      "cell_type": "markdown",
      "metadata": {
        "id": "UsOBrHTgQW0x"
      },
      "source": [
        "# extracting data"
      ]
    },
    {
      "cell_type": "markdown",
      "metadata": {
        "id": "g7rDBTINQ1w4"
      },
      "source": [
        "## defines"
      ]
    },
    {
      "cell_type": "code",
      "source": [
        "%pip install tableone"
      ],
      "metadata": {
        "id": "vmwRN-Q5Ypf7",
        "colab": {
          "base_uri": "https://localhost:8080/"
        },
        "outputId": "ef647ca7-d0bd-432b-eb38-6607c0c6d548"
      },
      "execution_count": 1,
      "outputs": [
        {
          "output_type": "stream",
          "name": "stdout",
          "text": [
            "Collecting tableone\n",
            "  Downloading tableone-0.8.0-py3-none-any.whl (33 kB)\n",
            "Requirement already satisfied: jinja2 in /usr/local/lib/python3.10/dist-packages (from tableone) (3.1.3)\n",
            "Requirement already satisfied: numpy in /usr/local/lib/python3.10/dist-packages (from tableone) (1.25.2)\n",
            "Requirement already satisfied: openpyxl in /usr/local/lib/python3.10/dist-packages (from tableone) (3.1.2)\n",
            "Requirement already satisfied: pandas in /usr/local/lib/python3.10/dist-packages (from tableone) (2.0.3)\n",
            "Requirement already satisfied: scipy in /usr/local/lib/python3.10/dist-packages (from tableone) (1.11.4)\n",
            "Requirement already satisfied: statsmodels in /usr/local/lib/python3.10/dist-packages (from tableone) (0.14.1)\n",
            "Requirement already satisfied: tabulate in /usr/local/lib/python3.10/dist-packages (from tableone) (0.9.0)\n",
            "Requirement already satisfied: MarkupSafe>=2.0 in /usr/local/lib/python3.10/dist-packages (from jinja2->tableone) (2.1.5)\n",
            "Requirement already satisfied: et-xmlfile in /usr/local/lib/python3.10/dist-packages (from openpyxl->tableone) (1.1.0)\n",
            "Requirement already satisfied: python-dateutil>=2.8.2 in /usr/local/lib/python3.10/dist-packages (from pandas->tableone) (2.8.2)\n",
            "Requirement already satisfied: pytz>=2020.1 in /usr/local/lib/python3.10/dist-packages (from pandas->tableone) (2023.4)\n",
            "Requirement already satisfied: tzdata>=2022.1 in /usr/local/lib/python3.10/dist-packages (from pandas->tableone) (2024.1)\n",
            "Requirement already satisfied: patsy>=0.5.4 in /usr/local/lib/python3.10/dist-packages (from statsmodels->tableone) (0.5.6)\n",
            "Requirement already satisfied: packaging>=21.3 in /usr/local/lib/python3.10/dist-packages (from statsmodels->tableone) (24.0)\n",
            "Requirement already satisfied: six in /usr/local/lib/python3.10/dist-packages (from patsy>=0.5.4->statsmodels->tableone) (1.16.0)\n",
            "Installing collected packages: tableone\n",
            "Successfully installed tableone-0.8.0\n"
          ]
        }
      ]
    },
    {
      "cell_type": "code",
      "execution_count": 2,
      "metadata": {
        "id": "X9uV1s8qQ3HN",
        "colab": {
          "base_uri": "https://localhost:8080/"
        },
        "outputId": "5b2979a8-4095-4c68-8e62-d0e178cd179d"
      },
      "outputs": [
        {
          "output_type": "stream",
          "name": "stdout",
          "text": [
            "Authenticated\n"
          ]
        }
      ],
      "source": [
        "import matplotlib.pyplot as plt\n",
        "import pandas as pd\n",
        "import tableone\n",
        "from google.colab import files\n",
        "from google.colab import auth\n",
        "auth.authenticate_user()\n",
        "print('Authenticated')\n",
        "\n",
        "%load_ext google.colab.data_table"
      ]
    },
    {
      "cell_type": "code",
      "source": [
        "# change this to change the right project\n",
        "%env GOOGLE_CLOUD_PROJECT = sccm-datathon-2023-participant"
      ],
      "metadata": {
        "id": "XsqB12wIMpE7",
        "colab": {
          "base_uri": "https://localhost:8080/"
        },
        "outputId": "8f522449-2ad4-4b6d-9651-7df3b1fe8425"
      },
      "execution_count": 3,
      "outputs": [
        {
          "output_type": "stream",
          "name": "stdout",
          "text": [
            "env: GOOGLE_CLOUD_PROJECT=sccm-datathon-2023-participant\n"
          ]
        },
        {
          "output_type": "stream",
          "name": "stderr",
          "text": [
            "/usr/local/lib/python3.10/dist-packages/ipykernel/ipkernel.py:283: DeprecationWarning: `should_run_async` will not call `transform_cell` automatically in the future. Please pass the result to `transformed_cell` argument and any exception that happen during thetransform in `preprocessing_exc_tuple` in IPython 7.17 and above.\n",
            "  and should_run_async(code)\n"
          ]
        }
      ]
    },
    {
      "cell_type": "markdown",
      "source": [
        "total data"
      ],
      "metadata": {
        "id": "_OTNdwka2KhP"
      }
    },
    {
      "cell_type": "code",
      "source": [
        "from google.cloud import bigquery\n",
        "client = bigquery.Client(project='dukedatathon2024')\n",
        "\n",
        "query_notes = \"\"\"\n",
        "SELECT\n",
        "    n.ROW_ID,\n",
        "    n.TEXT\n",
        "FROM `physionet-data.mimiciii_notes.noteevents` n\n",
        "\"\"\"\n",
        "\n",
        "# Execute the query for notes\n",
        "query_job_notes = client.query(query_notes)\n",
        "df_notes_whole = query_job_notes.to_dataframe()\n",
        "len(df_notes_whole)"
      ],
      "metadata": {
        "colab": {
          "base_uri": "https://localhost:8080/"
        },
        "id": "NXAfptWn2MB1",
        "outputId": "b60ff775-c6ce-42f3-b63b-62c0987e9895"
      },
      "execution_count": 5,
      "outputs": [
        {
          "output_type": "stream",
          "name": "stderr",
          "text": [
            "/usr/local/lib/python3.10/dist-packages/ipykernel/ipkernel.py:283: DeprecationWarning: `should_run_async` will not call `transform_cell` automatically in the future. Please pass the result to `transformed_cell` argument and any exception that happen during thetransform in `preprocessing_exc_tuple` in IPython 7.17 and above.\n",
            "  and should_run_async(code)\n"
          ]
        },
        {
          "output_type": "execute_result",
          "data": {
            "text/plain": [
              "2083180"
            ]
          },
          "metadata": {},
          "execution_count": 5
        }
      ]
    },
    {
      "cell_type": "code",
      "source": [
        "import pandas as pd\n",
        "import re\n",
        "def extract_section(text, start_keyword):\n",
        "    \"\"\"\n",
        "    Extracts the section from the text starting with a keyword until a blank line or\n",
        "    another major section header is detected.\n",
        "    \"\"\"\n",
        "    # Convert to lowercase for case-insensitive matching, but work with original for extraction\n",
        "    text_lower = text.lower()\n",
        "    start_keyword = start_keyword.lower()\n",
        "\n",
        "    try:\n",
        "        start_index = text_lower.index(start_keyword) + len(start_keyword)\n",
        "        # Find the end index by looking for two newline characters indicating a new section or end of the note\n",
        "        end_index = text_lower.find('\\n\\n', start_index)\n",
        "        if end_index == -1:  # If no double newline is found, take the rest of the text\n",
        "            end_index = len(text)\n",
        "        return text[start_index:end_index].strip()\n",
        "    except ValueError:\n",
        "        # Return None if the section isn't found\n",
        "        return None\n",
        "\n",
        "def clean_text(text):\n",
        "    \"\"\"\n",
        "    Performs basic cleaning of text such as removing extra spaces, special characters, etc.\n",
        "    \"\"\"\n",
        "    if text is not None:\n",
        "        text = re.sub(r'\\[\\*\\*.*?\\*\\*\\]', '', text)  # Remove de-identified placeholders\n",
        "        text = re.sub(r'\\s+', ' ', text).strip()  # Replace multiple spaces with a single space\n",
        "    return text"
      ],
      "metadata": {
        "colab": {
          "base_uri": "https://localhost:8080/"
        },
        "id": "wYXxnT-T29ay",
        "outputId": "4a4132fa-2389-47e3-a65f-4c87bdc69f7e"
      },
      "execution_count": 6,
      "outputs": [
        {
          "output_type": "stream",
          "name": "stderr",
          "text": [
            "/usr/local/lib/python3.10/dist-packages/ipykernel/ipkernel.py:283: DeprecationWarning: `should_run_async` will not call `transform_cell` automatically in the future. Please pass the result to `transformed_cell` argument and any exception that happen during thetransform in `preprocessing_exc_tuple` in IPython 7.17 and above.\n",
            "  and should_run_async(code)\n"
          ]
        }
      ]
    },
    {
      "cell_type": "code",
      "source": [
        "# Define keywords to mark the start and end of the section of interest\n",
        "# Define keywords to mark the start and end of the section of interest, maintain original case for matching\n",
        "train_set_df = df_notes_df_testwhole\n",
        "start_keyword = \"Social History:\"\n",
        "\n",
        "# Extract and clean the Social History section from each row\n",
        "train_set_df['processed_text'] = train_set_df['TEXT'].apply(\n",
        "    lambda x: clean_text(extract_section(x, start_keyword))\n",
        ")\n",
        "# Count how many rows have None or missing 'processed_text'\n",
        "missing_count = train_set_df['processed_text'].isnull().sum()\n",
        "\n",
        "print(f\"Number of records with missing 'Social History' sections: {missing_count}\")"
      ],
      "metadata": {
        "id": "NfuMZm7m2_1X"
      },
      "execution_count": null,
      "outputs": []
    },
    {
      "cell_type": "code",
      "source": [
        "missing_count = train_set_df['processed_text'].isnull().sum()\n",
        "print(\"Number of missing 'processed_text':\", missing_count)\n",
        "\n",
        "# Filter the DataFrame to find the first missing 'processed_text'\n",
        "missing_example = train_set_df[train_set_df['processed_text'].isnull()].head(1)\n",
        "\n"
      ],
      "metadata": {
        "colab": {
          "base_uri": "https://localhost:8080/"
        },
        "id": "IGaiAfuk4LQU",
        "outputId": "c4ce1703-6a34-40d8-8dc4-73a0a7bb0766"
      },
      "execution_count": 8,
      "outputs": [
        {
          "output_type": "stream",
          "name": "stderr",
          "text": [
            "/usr/local/lib/python3.10/dist-packages/ipykernel/ipkernel.py:283: DeprecationWarning: `should_run_async` will not call `transform_cell` automatically in the future. Please pass the result to `transformed_cell` argument and any exception that happen during thetransform in `preprocessing_exc_tuple` in IPython 7.17 and above.\n",
            "  and should_run_async(code)\n"
          ]
        },
        {
          "output_type": "stream",
          "name": "stdout",
          "text": [
            "Number of missing 'processed_text': 2021646\n",
            "First missing example: ROW_ID                                                      1426629\n",
            "TEXT              CCU Nursing Progress Note 11p-7a\\nS: Pt remain...\n",
            "processed_text                                                 None\n",
            "Name: 0, dtype: object\n"
          ]
        }
      ]
    },
    {
      "cell_type": "code",
      "source": [
        "missing_example.head(1)"
      ],
      "metadata": {
        "colab": {
          "base_uri": "https://localhost:8080/",
          "height": 380
        },
        "id": "WAvxIHzR4V9_",
        "outputId": "aaa3f8da-c6ab-4b8a-8682-d62781c69a46"
      },
      "execution_count": 10,
      "outputs": [
        {
          "output_type": "stream",
          "name": "stderr",
          "text": [
            "/usr/local/lib/python3.10/dist-packages/ipykernel/ipkernel.py:283: DeprecationWarning: `should_run_async` will not call `transform_cell` automatically in the future. Please pass the result to `transformed_cell` argument and any exception that happen during thetransform in `preprocessing_exc_tuple` in IPython 7.17 and above.\n",
            "  and should_run_async(code)\n"
          ]
        },
        {
          "output_type": "execute_result",
          "data": {
            "text/plain": [
              "    ROW_ID                                               TEXT processed_text\n",
              "0  1426629  CCU Nursing Progress Note 11p-7a\\nS: Pt remain...           None"
            ],
            "text/html": [
              "\n",
              "  <div id=\"df-a72eeb25-445a-4d71-b680-b888f89be354\" class=\"colab-df-container\">\n",
              "    <div>\n",
              "<style scoped>\n",
              "    .dataframe tbody tr th:only-of-type {\n",
              "        vertical-align: middle;\n",
              "    }\n",
              "\n",
              "    .dataframe tbody tr th {\n",
              "        vertical-align: top;\n",
              "    }\n",
              "\n",
              "    .dataframe thead th {\n",
              "        text-align: right;\n",
              "    }\n",
              "</style>\n",
              "<table border=\"1\" class=\"dataframe\">\n",
              "  <thead>\n",
              "    <tr style=\"text-align: right;\">\n",
              "      <th></th>\n",
              "      <th>ROW_ID</th>\n",
              "      <th>TEXT</th>\n",
              "      <th>processed_text</th>\n",
              "    </tr>\n",
              "  </thead>\n",
              "  <tbody>\n",
              "    <tr>\n",
              "      <th>0</th>\n",
              "      <td>1426629</td>\n",
              "      <td>CCU Nursing Progress Note 11p-7a\\nS: Pt remain...</td>\n",
              "      <td>None</td>\n",
              "    </tr>\n",
              "  </tbody>\n",
              "</table>\n",
              "</div>\n",
              "    <div class=\"colab-df-buttons\">\n",
              "\n",
              "  <div class=\"colab-df-container\">\n",
              "    <button class=\"colab-df-convert\" onclick=\"convertToInteractive('df-a72eeb25-445a-4d71-b680-b888f89be354')\"\n",
              "            title=\"Convert this dataframe to an interactive table.\"\n",
              "            style=\"display:none;\">\n",
              "\n",
              "  <svg xmlns=\"http://www.w3.org/2000/svg\" height=\"24px\" viewBox=\"0 -960 960 960\">\n",
              "    <path d=\"M120-120v-720h720v720H120Zm60-500h600v-160H180v160Zm220 220h160v-160H400v160Zm0 220h160v-160H400v160ZM180-400h160v-160H180v160Zm440 0h160v-160H620v160ZM180-180h160v-160H180v160Zm440 0h160v-160H620v160Z\"/>\n",
              "  </svg>\n",
              "    </button>\n",
              "\n",
              "  <style>\n",
              "    .colab-df-container {\n",
              "      display:flex;\n",
              "      gap: 12px;\n",
              "    }\n",
              "\n",
              "    .colab-df-convert {\n",
              "      background-color: #E8F0FE;\n",
              "      border: none;\n",
              "      border-radius: 50%;\n",
              "      cursor: pointer;\n",
              "      display: none;\n",
              "      fill: #1967D2;\n",
              "      height: 32px;\n",
              "      padding: 0 0 0 0;\n",
              "      width: 32px;\n",
              "    }\n",
              "\n",
              "    .colab-df-convert:hover {\n",
              "      background-color: #E2EBFA;\n",
              "      box-shadow: 0px 1px 2px rgba(60, 64, 67, 0.3), 0px 1px 3px 1px rgba(60, 64, 67, 0.15);\n",
              "      fill: #174EA6;\n",
              "    }\n",
              "\n",
              "    .colab-df-buttons div {\n",
              "      margin-bottom: 4px;\n",
              "    }\n",
              "\n",
              "    [theme=dark] .colab-df-convert {\n",
              "      background-color: #3B4455;\n",
              "      fill: #D2E3FC;\n",
              "    }\n",
              "\n",
              "    [theme=dark] .colab-df-convert:hover {\n",
              "      background-color: #434B5C;\n",
              "      box-shadow: 0px 1px 3px 1px rgba(0, 0, 0, 0.15);\n",
              "      filter: drop-shadow(0px 1px 2px rgba(0, 0, 0, 0.3));\n",
              "      fill: #FFFFFF;\n",
              "    }\n",
              "  </style>\n",
              "\n",
              "    <script>\n",
              "      const buttonEl =\n",
              "        document.querySelector('#df-a72eeb25-445a-4d71-b680-b888f89be354 button.colab-df-convert');\n",
              "      buttonEl.style.display =\n",
              "        google.colab.kernel.accessAllowed ? 'block' : 'none';\n",
              "\n",
              "      async function convertToInteractive(key) {\n",
              "        const element = document.querySelector('#df-a72eeb25-445a-4d71-b680-b888f89be354');\n",
              "        const dataTable =\n",
              "          await google.colab.kernel.invokeFunction('convertToInteractive',\n",
              "                                                    [key], {});\n",
              "        if (!dataTable) return;\n",
              "\n",
              "        const docLinkHtml = 'Like what you see? Visit the ' +\n",
              "          '<a target=\"_blank\" href=https://colab.research.google.com/notebooks/data_table.ipynb>data table notebook</a>'\n",
              "          + ' to learn more about interactive tables.';\n",
              "        element.innerHTML = '';\n",
              "        dataTable['output_type'] = 'display_data';\n",
              "        await google.colab.output.renderOutput(dataTable, element);\n",
              "        const docLink = document.createElement('div');\n",
              "        docLink.innerHTML = docLinkHtml;\n",
              "        element.appendChild(docLink);\n",
              "      }\n",
              "    </script>\n",
              "  </div>\n",
              "\n",
              "\n",
              "    </div>\n",
              "  </div>\n"
            ],
            "application/vnd.google.colaboratory.intrinsic+json": {
              "type": "dataframe",
              "variable_name": "missing_example",
              "repr_error": "Out of range float values are not JSON compliant: nan"
            },
            "application/vnd.google.colaboratory.module+javascript": "\n      import \"https://ssl.gstatic.com/colaboratory/data_table/881c4a0d49046431/data_table.js\";\n\n      const table = window.createDataTable({\n        data: [[{\n            'v': 0,\n            'f': \"0\",\n        },\n{\n            'v': 1426629,\n            'f': \"1426629\",\n        },\n\"CCU Nursing Progress Note 11p-7a\\nS: Pt remains sedated and on mechanical ventilation\\n\\nO: Please see careview for complete VS/ additional objective data\\n\\nNeuro: Sedation unchanged overnoc and continues at Fentanyl 100mcq/hr and Versed .5 mg/hr. Pt aggitated x1 requiring additional Fentanyl bolus for comfort. Pt opening eyes to voice but cont to inconsistently follow simple commands. Pt MAE all over bed at times. Soft restraints remain on for safety of ETT and invasive lines.\\n\\nCV: Tele-> ST w/ 1st degree AVB. HR 104-113. Pt changed from NEO to LEVO gtt yesterday am. Levo @ .4 mcg/kg/min overnoc. ABP less labile. ABP 100-115/55-63. MAPs consistently>70. ABP cont to drop to SBP 60s w/ suctioning, repositioning etc. PAP 59-67/27-32. CVP 12-15. Pt continues on Lasix gtt. Angiomax decreased to 0.10 mg on previous shift. Awaiting results for am PTT. Angiomax d/t be dc'd @ 10am. H/H stable. Electrolytes still pending.\\n\\nResp: AC 40%/500/10/5peep. Pt not overbreathing. LS coarse w/ occ exp wheezes. Pt suctioned for sm amt white thick secretions. O2 sats 97-99%. Albuterol treatments per RPT.\\n\\nGI/GU: NPO. OGT in place. Pt remains off of Respolar TF overnoc d/t high residuals. This am residuals 170. BS absent. Still no stool despite bowel regimen. F/C draining lg amts of yellow urine. Cont on Lasix gtt 6.5mg. Pt currently -5300 LOS.\\n\\nID: Spiked yesterday. Recultured per request of team. Overnoc tmax 100.5 po. Tx w/ Tylenol PR w/ gd results. WBC elevated this am 15.4(11.7).\\n\\nDispo: DNR as of 1700 yesterday\\n\\nSocial: Very supportive family. Back in last evening to visit. Updated on pt condition.\\n\\nA/P: Cont pressor dependence. ABP less labile now that pt is on Levophed gtt. Pt cont to spike temp. WBC elevated despite broad abx coverage. PTT remains high while on Angiomax. D/C Angiomax @ 1000. Cont diuresis. Watch electrolytes and replete as indicated. TF remain off d/t ^ residuals. Resume TF once residuals WNL. Cont emotional support of pt and family.\\n\\n\",\n{\n            'v': null,\n            'f': \"null\",\n        }]],\n        columns: [[\"number\", \"index\"], [\"number\", \"ROW_ID\"], [\"string\", \"TEXT\"], [\"number\", \"processed_text\"]],\n        columnOptions: [{\"width\": \"1px\", \"className\": \"index_column\"}],\n        rowsPerPage: 25,\n        helpUrl: \"https://colab.research.google.com/notebooks/data_table.ipynb\",\n        suppressOutputScrolling: true,\n        minimumWidth: undefined,\n      });\n\n      function appendQuickchartButton(parentElement) {\n        let quickchartButtonContainerElement = document.createElement('div');\n        quickchartButtonContainerElement.innerHTML = `\n<div id=\"df-27db6501-f2a9-4065-87bd-2e8b9b7a7fd6\">\n  <button class=\"colab-df-quickchart\" onclick=\"quickchart('df-27db6501-f2a9-4065-87bd-2e8b9b7a7fd6')\"\n            title=\"Suggest charts\"\n            style=\"display:none;\">\n    \n<svg xmlns=\"http://www.w3.org/2000/svg\" height=\"24px\"viewBox=\"0 0 24 24\"\n     width=\"24px\">\n    <g>\n        <path d=\"M19 3H5c-1.1 0-2 .9-2 2v14c0 1.1.9 2 2 2h14c1.1 0 2-.9 2-2V5c0-1.1-.9-2-2-2zM9 17H7v-7h2v7zm4 0h-2V7h2v10zm4 0h-2v-4h2v4z\"/>\n    </g>\n</svg>\n  </button>\n  \n<style>\n  .colab-df-quickchart {\n      --bg-color: #E8F0FE;\n      --fill-color: #1967D2;\n      --hover-bg-color: #E2EBFA;\n      --hover-fill-color: #174EA6;\n      --disabled-fill-color: #AAA;\n      --disabled-bg-color: #DDD;\n  }\n\n  [theme=dark] .colab-df-quickchart {\n      --bg-color: #3B4455;\n      --fill-color: #D2E3FC;\n      --hover-bg-color: #434B5C;\n      --hover-fill-color: #FFFFFF;\n      --disabled-bg-color: #3B4455;\n      --disabled-fill-color: #666;\n  }\n\n  .colab-df-quickchart {\n    background-color: var(--bg-color);\n    border: none;\n    border-radius: 50%;\n    cursor: pointer;\n    display: none;\n    fill: var(--fill-color);\n    height: 32px;\n    padding: 0;\n    width: 32px;\n  }\n\n  .colab-df-quickchart:hover {\n    background-color: var(--hover-bg-color);\n    box-shadow: 0 1px 2px rgba(60, 64, 67, 0.3), 0 1px 3px 1px rgba(60, 64, 67, 0.15);\n    fill: var(--button-hover-fill-color);\n  }\n\n  .colab-df-quickchart-complete:disabled,\n  .colab-df-quickchart-complete:disabled:hover {\n    background-color: var(--disabled-bg-color);\n    fill: var(--disabled-fill-color);\n    box-shadow: none;\n  }\n\n  .colab-df-spinner {\n    border: 2px solid var(--fill-color);\n    border-color: transparent;\n    border-bottom-color: var(--fill-color);\n    animation:\n      spin 1s steps(1) infinite;\n  }\n\n  @keyframes spin {\n    0% {\n      border-color: transparent;\n      border-bottom-color: var(--fill-color);\n      border-left-color: var(--fill-color);\n    }\n    20% {\n      border-color: transparent;\n      border-left-color: var(--fill-color);\n      border-top-color: var(--fill-color);\n    }\n    30% {\n      border-color: transparent;\n      border-left-color: var(--fill-color);\n      border-top-color: var(--fill-color);\n      border-right-color: var(--fill-color);\n    }\n    40% {\n      border-color: transparent;\n      border-right-color: var(--fill-color);\n      border-top-color: var(--fill-color);\n    }\n    60% {\n      border-color: transparent;\n      border-right-color: var(--fill-color);\n    }\n    80% {\n      border-color: transparent;\n      border-right-color: var(--fill-color);\n      border-bottom-color: var(--fill-color);\n    }\n    90% {\n      border-color: transparent;\n      border-bottom-color: var(--fill-color);\n    }\n  }\n</style>\n\n  <script>\n    async function quickchart(key) {\n      const quickchartButtonEl =\n        document.querySelector('#' + key + ' button');\n      quickchartButtonEl.disabled = true;  // To prevent multiple clicks.\n      quickchartButtonEl.classList.add('colab-df-spinner');\n      try {\n        const charts = await google.colab.kernel.invokeFunction(\n            'suggestCharts', [key], {});\n      } catch (error) {\n        console.error('Error during call to suggestCharts:', error);\n      }\n      quickchartButtonEl.classList.remove('colab-df-spinner');\n      quickchartButtonEl.classList.add('colab-df-quickchart-complete');\n    }\n    (() => {\n      let quickchartButtonEl =\n        document.querySelector('#df-27db6501-f2a9-4065-87bd-2e8b9b7a7fd6 button');\n      quickchartButtonEl.style.display =\n        google.colab.kernel.accessAllowed ? 'block' : 'none';\n    })();\n  </script>\n</div>`;\n        parentElement.appendChild(quickchartButtonContainerElement);\n      }\n\n      appendQuickchartButton(table);\n    "
          },
          "metadata": {},
          "execution_count": 10
        }
      ]
    },
    {
      "cell_type": "markdown",
      "source": [
        "save the testing 70kdata\n"
      ],
      "metadata": {
        "id": "vvnKeXP05YiP"
      }
    },
    {
      "cell_type": "code",
      "source": [
        "# Calculate the number of words in each row of 'processed_text'\n",
        "train_set_df['word_count'] = train_set_df['processed_text'].apply(lambda x: len(x.split()))\n",
        "\n",
        "# Get descriptive statistics of the word count distribution\n",
        "train_set_df['word_count'].describe()\n"
      ],
      "metadata": {
        "id": "sYY9Cby13BiR"
      },
      "execution_count": null,
      "outputs": []
    },
    {
      "cell_type": "code",
      "source": [
        "df_test = train_set_df[train_set_df['processed_text'].notnull()][['ROW_ID', 'processed_text']]\n",
        "df_test = df_test[df_test['processed_text'].notnull()]\n",
        "df_test['word_count'] = df_test['processed_text'].apply(lambda x: len(x.split()))\n",
        "\n",
        "# Get descriptive statistics of the word count distribution\n",
        "df_test['word_count'].describe()"
      ],
      "metadata": {
        "colab": {
          "base_uri": "https://localhost:8080/"
        },
        "id": "DyHLwR0L5dvL",
        "outputId": "aec2b2a2-26d8-4eea-a615-5c36ca8491f9"
      },
      "execution_count": 24,
      "outputs": [
        {
          "output_type": "stream",
          "name": "stderr",
          "text": [
            "/usr/local/lib/python3.10/dist-packages/ipykernel/ipkernel.py:283: DeprecationWarning: `should_run_async` will not call `transform_cell` automatically in the future. Please pass the result to `transformed_cell` argument and any exception that happen during thetransform in `preprocessing_exc_tuple` in IPython 7.17 and above.\n",
            "  and should_run_async(code)\n"
          ]
        },
        {
          "output_type": "execute_result",
          "data": {
            "text/plain": [
              "count    61534.000000\n",
              "mean       235.825316\n",
              "std        384.360673\n",
              "min          0.000000\n",
              "25%         15.000000\n",
              "50%         30.000000\n",
              "75%        393.000000\n",
              "max       2987.000000\n",
              "Name: word_count, dtype: float64"
            ]
          },
          "metadata": {},
          "execution_count": 24
        }
      ]
    },
    {
      "cell_type": "code",
      "source": [
        "# prompt: df_test['word_count'] plot the distribution, drop the blank string of word count is 0\n",
        "\n",
        "import matplotlib.pyplot as plt\n",
        "\n",
        "# Filter out rows with word count of 0\n",
        "df_test_filtered = df_test[df_test['word_count'] >0]\n",
        "\n",
        "# Plot the distribution of word counts\n",
        "df_test_filtered['word_count'].plot(kind='hist', bins=50)\n",
        "plt.xlabel('Word Count')\n",
        "plt.ylabel('Frequency')\n",
        "plt.title('Distribution of Word Counts in Social History Section')\n",
        "plt.show()\n"
      ],
      "metadata": {
        "colab": {
          "base_uri": "https://localhost:8080/",
          "height": 528
        },
        "id": "07A99y1GBx58",
        "outputId": "0360437f-2b79-4c05-8349-283a5fcf9316"
      },
      "execution_count": 26,
      "outputs": [
        {
          "output_type": "stream",
          "name": "stderr",
          "text": [
            "/usr/local/lib/python3.10/dist-packages/ipykernel/ipkernel.py:283: DeprecationWarning: `should_run_async` will not call `transform_cell` automatically in the future. Please pass the result to `transformed_cell` argument and any exception that happen during thetransform in `preprocessing_exc_tuple` in IPython 7.17 and above.\n",
            "  and should_run_async(code)\n"
          ]
        },
        {
          "output_type": "display_data",
          "data": {
            "text/plain": [
              "<Figure size 640x480 with 1 Axes>"
            ],
            "image/png": "[encoded data removed]"
          },
          "metadata": {}
        }
      ]
    },
    {
      "cell_type": "code",
      "source": [
        "# prompt: save the df_test\n",
        "\n",
        "df_test.to_csv('df_test.csv')\n"
      ],
      "metadata": {
        "colab": {
          "base_uri": "https://localhost:8080/"
        },
        "id": "Z3iMidiJ5zXp",
        "outputId": "4a9647b7-5805-43ab-8413-9dfd7c9912b1"
      },
      "execution_count": 13,
      "outputs": [
        {
          "output_type": "stream",
          "name": "stderr",
          "text": [
            "/usr/local/lib/python3.10/dist-packages/ipykernel/ipkernel.py:283: DeprecationWarning: `should_run_async` will not call `transform_cell` automatically in the future. Please pass the result to `transformed_cell` argument and any exception that happen during thetransform in `preprocessing_exc_tuple` in IPython 7.17 and above.\n",
            "  and should_run_async(code)\n"
          ]
        }
      ]
    },
    {
      "cell_type": "code",
      "source": [
        "patient_ids = df_test['ROW_ID'].tolist()"
      ],
      "metadata": {
        "colab": {
          "base_uri": "https://localhost:8080/"
        },
        "id": "4bC9YYYc6Jq1",
        "outputId": "caf01d5f-622c-449e-a654-c4242463cae7"
      },
      "execution_count": 37,
      "outputs": [
        {
          "output_type": "stream",
          "name": "stderr",
          "text": [
            "/usr/local/lib/python3.10/dist-packages/ipykernel/ipkernel.py:283: DeprecationWarning: `should_run_async` will not call `transform_cell` automatically in the future. Please pass the result to `transformed_cell` argument and any exception that happen during thetransform in `preprocessing_exc_tuple` in IPython 7.17 and above.\n",
            "  and should_run_async(code)\n"
          ]
        }
      ]
    },
    {
      "cell_type": "markdown",
      "metadata": {
        "id": "WGhP382kVIHZ"
      },
      "source": [
        "## examples"
      ]
    },
    {
      "cell_type": "code",
      "source": [
        "\n",
        "import pandas as pd\n",
        "\n",
        "\n",
        "url = 'https://raw.githubusercontent.com/hibaahsan/MIMIC-SBDH/main/MIMIC-SBDH.csv'\n",
        "df = pd.read_csv(url)\n",
        "\n",
        "patient_ids = df['row_id'].tolist()"
      ],
      "metadata": {
        "id": "IhsXAelmb4ZU",
        "outputId": "5d79b5b5-a56b-4d94-cb86-d385d7b5ea08",
        "colab": {
          "base_uri": "https://localhost:8080/"
        }
      },
      "execution_count": null,
      "outputs": [
        {
          "output_type": "stream",
          "name": "stderr",
          "text": [
            "/usr/local/lib/python3.10/dist-packages/ipykernel/ipkernel.py:283: DeprecationWarning: `should_run_async` will not call `transform_cell` automatically in the future. Please pass the result to `transformed_cell` argument and any exception that happen during thetransform in `preprocessing_exc_tuple` in IPython 7.17 and above.\n",
            "  and should_run_async(code)\n"
          ]
        }
      ]
    },
    {
      "cell_type": "markdown",
      "source": [
        "# demongraphic fields"
      ],
      "metadata": {
        "id": "fDbKM0TVhB23"
      }
    },
    {
      "cell_type": "code",
      "source": [
        "len(patient_ids)"
      ],
      "metadata": {
        "colab": {
          "base_uri": "https://localhost:8080/"
        },
        "id": "oADxk8B98UeY",
        "outputId": "f40364f8-320a-40c6-9360-5abedb931155"
      },
      "execution_count": 20,
      "outputs": [
        {
          "output_type": "stream",
          "name": "stderr",
          "text": [
            "/usr/local/lib/python3.10/dist-packages/ipykernel/ipkernel.py:283: DeprecationWarning: `should_run_async` will not call `transform_cell` automatically in the future. Please pass the result to `transformed_cell` argument and any exception that happen during thetransform in `preprocessing_exc_tuple` in IPython 7.17 and above.\n",
            "  and should_run_async(code)\n"
          ]
        },
        {
          "output_type": "execute_result",
          "data": {
            "text/plain": [
              "61534"
            ]
          },
          "metadata": {},
          "execution_count": 20
        }
      ]
    },
    {
      "cell_type": "code",
      "source": [
        "from google.cloud import bigquery\n",
        "\n",
        "# Create a BigQuery client\n",
        "client = bigquery.Client(project='dukedatathon2024')\n",
        "\n",
        "query = \"\"\"\n",
        "SELECT\n",
        "    p.ROW_ID,\n",
        "    p.GENDER,\n",
        "    a.ETHNICITY,\n",
        "    a.MARITAL_STATUS,\n",
        "    a.INSURANCE,\n",
        "    a.LANGUAGE,\n",
        "    DATE_DIFF(DATE(a.ADMITTIME), DATE(p.DOB), YEAR) AS AGE,\n",
        "FROM `physionet-data.mimiciii_notes.noteevents` n\n",
        "JOIN `physionet-data.mimiciii_clinical.patients` p ON n.ROW_ID = p.ROW_ID\n",
        "JOIN `physionet-data.mimiciii_clinical.admissions` a ON n.ROW_ID = a.ROW_ID\n",
        "WHERE n.ROW_ID IN UNNEST(@ROW_ID)\n",
        "\"\"\"\n",
        "\n",
        "job_config = bigquery.QueryJobConfig(\n",
        "    query_parameters=[\n",
        "        bigquery.ArrayQueryParameter(\"ROW_ID\", \"INT64\", patient_ids)\n",
        "    ]\n",
        ")\n",
        "\n",
        "query_job = client.query(query, job_config=job_config)\n",
        "df_notes_demographics = query_job.to_dataframe()\n",
        "\n",
        "len(df_notes_demographics)\n",
        "\n"
      ],
      "metadata": {
        "colab": {
          "base_uri": "https://localhost:8080/"
        },
        "id": "Ich5bPH9hETV",
        "outputId": "45f368ef-83a7-4665-86e4-712398d3e5ca"
      },
      "execution_count": 38,
      "outputs": [
        {
          "output_type": "stream",
          "name": "stderr",
          "text": [
            "/usr/local/lib/python3.10/dist-packages/ipykernel/ipkernel.py:283: DeprecationWarning: `should_run_async` will not call `transform_cell` automatically in the future. Please pass the result to `transformed_cell` argument and any exception that happen during thetransform in `preprocessing_exc_tuple` in IPython 7.17 and above.\n",
            "  and should_run_async(code)\n"
          ]
        },
        {
          "output_type": "execute_result",
          "data": {
            "text/plain": [
              "36775"
            ]
          },
          "metadata": {},
          "execution_count": 38
        }
      ]
    },
    {
      "cell_type": "code",
      "source": [
        "# prompt: df_notes_demographics drop duplicate\n",
        "\n",
        "df_notes_demographics = df_notes_demographics.drop_duplicates()\n",
        "len(df_notes_demographics)\n"
      ],
      "metadata": {
        "colab": {
          "base_uri": "https://localhost:8080/"
        },
        "id": "RSzm7qpH29K3",
        "outputId": "77ab7e41-c280-48a8-d66a-a1ebf2753dc2"
      },
      "execution_count": 39,
      "outputs": [
        {
          "output_type": "stream",
          "name": "stderr",
          "text": [
            "/usr/local/lib/python3.10/dist-packages/ipykernel/ipkernel.py:283: DeprecationWarning: `should_run_async` will not call `transform_cell` automatically in the future. Please pass the result to `transformed_cell` argument and any exception that happen during thetransform in `preprocessing_exc_tuple` in IPython 7.17 and above.\n",
            "  and should_run_async(code)\n"
          ]
        },
        {
          "output_type": "execute_result",
          "data": {
            "text/plain": [
              "36775"
            ]
          },
          "metadata": {},
          "execution_count": 39
        }
      ]
    },
    {
      "cell_type": "code",
      "source": [
        "patient_ids = df_notes_demographics['ROW_ID'].tolist()"
      ],
      "metadata": {
        "colab": {
          "base_uri": "https://localhost:8080/"
        },
        "id": "2fF-PvvpDKJE",
        "outputId": "c9c81134-c366-48b3-e995-a6f718c0290b"
      },
      "execution_count": 27,
      "outputs": [
        {
          "output_type": "stream",
          "name": "stderr",
          "text": [
            "/usr/local/lib/python3.10/dist-packages/ipykernel/ipkernel.py:283: DeprecationWarning: `should_run_async` will not call `transform_cell` automatically in the future. Please pass the result to `transformed_cell` argument and any exception that happen during thetransform in `preprocessing_exc_tuple` in IPython 7.17 and above.\n",
            "  and should_run_async(code)\n"
          ]
        }
      ]
    },
    {
      "cell_type": "code",
      "source": [
        "# prompt: have a new data match  the row_id in df_notes_demographics, and in df_test, i need keep all column df_test,  and all columns from df_notes_demographics\n",
        "\n",
        "merged_df = pd.merge(df_test, df_notes_demographics, on='ROW_ID', how='right')\n"
      ],
      "metadata": {
        "colab": {
          "base_uri": "https://localhost:8080/"
        },
        "id": "TfInTMFV8_-a",
        "outputId": "1ae01c2f-a2d6-478b-c33a-8ff330866508"
      },
      "execution_count": 43,
      "outputs": [
        {
          "output_type": "stream",
          "name": "stderr",
          "text": [
            "/usr/local/lib/python3.10/dist-packages/ipykernel/ipkernel.py:283: DeprecationWarning: `should_run_async` will not call `transform_cell` automatically in the future. Please pass the result to `transformed_cell` argument and any exception that happen during thetransform in `preprocessing_exc_tuple` in IPython 7.17 and above.\n",
            "  and should_run_async(code)\n"
          ]
        }
      ]
    },
    {
      "cell_type": "code",
      "source": [
        "merged_df"
      ],
      "metadata": {
        "colab": {
          "base_uri": "https://localhost:8080/",
          "height": 497
        },
        "id": "FKe_uBULIBiM",
        "outputId": "c8802f73-b3f0-4701-e151-2bf2746c9f5a"
      },
      "execution_count": 44,
      "outputs": [
        {
          "output_type": "stream",
          "name": "stderr",
          "text": [
            "/usr/local/lib/python3.10/dist-packages/ipykernel/ipkernel.py:283: DeprecationWarning: `should_run_async` will not call `transform_cell` automatically in the future. Please pass the result to `transformed_cell` argument and any exception that happen during thetransform in `preprocessing_exc_tuple` in IPython 7.17 and above.\n",
            "  and should_run_async(code)\n"
          ]
        },
        {
          "output_type": "stream",
          "name": "stdout",
          "text": [
            "Warning: total number of rows (36775) exceeds max_rows (20000). Falling back to pandas display.\n"
          ]
        },
        {
          "output_type": "execute_result",
          "data": {
            "text/plain": [
              "       ROW_ID                                     processed_text  word_count  \\\n",
              "0       46006  Lives at home with son, who is a teacher.Denie...          27   \n",
              "1       39138  Lives in , applying for a job and supposed to ...          20   \n",
              "2       37775  - Lives alone in an apartment. - Widowed, son ...          64   \n",
              "3       46220  Lives at home and takes care of his sister. Di...          48   \n",
              "4       36043  retired building info systems no tobacco ETOH:...          20   \n",
              "...       ...                                                ...         ...   \n",
              "36770    7575  The patient is married and lives on with his w...          30   \n",
              "36771   16970  The patient lives with her husband and daughte...          16   \n",
              "36772   36924  He is retired () from a clerical job with the ...          29   \n",
              "36773     493            No tobacco, occasional alcohol, married           5   \n",
              "36774   15927                 She denied alcohol or tobacco use.           6   \n",
              "\n",
              "      GENDER              ETHNICITY     MARITAL_STATUS INSURANCE LANGUAGE  AGE  \n",
              "0          M                  WHITE       LIFE PARTNER   Private     ENGL   66  \n",
              "1          M                  WHITE       LIFE PARTNER  Medicare     ENGL   85  \n",
              "2          F                  WHITE       LIFE PARTNER  Medicare     ENGL   38  \n",
              "3          M                  WHITE       LIFE PARTNER   Private     ENGL   70  \n",
              "4          M     HISPANIC OR LATINO       LIFE PARTNER  Medicare     ENGL  145  \n",
              "...      ...                    ...                ...       ...      ...  ...  \n",
              "36770      F                  WHITE  UNKNOWN (DEFAULT)  Medicare     None  127  \n",
              "36771      F  UNKNOWN/NOT SPECIFIED  UNKNOWN (DEFAULT)  Medicare     None   77  \n",
              "36772      F                  OTHER  UNKNOWN (DEFAULT)  Medicare     ENGL  380  \n",
              "36773      F  UNKNOWN/NOT SPECIFIED  UNKNOWN (DEFAULT)  Medicare     None   -8  \n",
              "36774      M                  WHITE  UNKNOWN (DEFAULT)  Medicare     None  -86  \n",
              "\n",
              "[36775 rows x 9 columns]"
            ],
            "text/html": [
              "\n",
              "  <div id=\"df-570731d6-4c42-4925-bcb5-35c6b3efaa57\" class=\"colab-df-container\">\n",
              "    <div>\n",
              "<style scoped>\n",
              "    .dataframe tbody tr th:only-of-type {\n",
              "        vertical-align: middle;\n",
              "    }\n",
              "\n",
              "    .dataframe tbody tr th {\n",
              "        vertical-align: top;\n",
              "    }\n",
              "\n",
              "    .dataframe thead th {\n",
              "        text-align: right;\n",
              "    }\n",
              "</style>\n",
              "<table border=\"1\" class=\"dataframe\">\n",
              "  <thead>\n",
              "    <tr style=\"text-align: right;\">\n",
              "      <th></th>\n",
              "      <th>ROW_ID</th>\n",
              "      <th>processed_text</th>\n",
              "      <th>word_count</th>\n",
              "      <th>GENDER</th>\n",
              "      <th>ETHNICITY</th>\n",
              "      <th>MARITAL_STATUS</th>\n",
              "      <th>INSURANCE</th>\n",
              "      <th>LANGUAGE</th>\n",
              "      <th>AGE</th>\n",
              "    </tr>\n",
              "  </thead>\n",
              "  <tbody>\n",
              "    <tr>\n",
              "      <th>0</th>\n",
              "      <td>46006</td>\n",
              "      <td>Lives at home with son, who is a teacher.Denie...</td>\n",
              "      <td>27</td>\n",
              "      <td>M</td>\n",
              "      <td>WHITE</td>\n",
              "      <td>LIFE PARTNER</td>\n",
              "      <td>Private</td>\n",
              "      <td>ENGL</td>\n",
              "      <td>66</td>\n",
              "    </tr>\n",
              "    <tr>\n",
              "      <th>1</th>\n",
              "      <td>39138</td>\n",
              "      <td>Lives in , applying for a job and supposed to ...</td>\n",
              "      <td>20</td>\n",
              "      <td>M</td>\n",
              "      <td>WHITE</td>\n",
              "      <td>LIFE PARTNER</td>\n",
              "      <td>Medicare</td>\n",
              "      <td>ENGL</td>\n",
              "      <td>85</td>\n",
              "    </tr>\n",
              "    <tr>\n",
              "      <th>2</th>\n",
              "      <td>37775</td>\n",
              "      <td>- Lives alone in an apartment. - Widowed, son ...</td>\n",
              "      <td>64</td>\n",
              "      <td>F</td>\n",
              "      <td>WHITE</td>\n",
              "      <td>LIFE PARTNER</td>\n",
              "      <td>Medicare</td>\n",
              "      <td>ENGL</td>\n",
              "      <td>38</td>\n",
              "    </tr>\n",
              "    <tr>\n",
              "      <th>3</th>\n",
              "      <td>46220</td>\n",
              "      <td>Lives at home and takes care of his sister. Di...</td>\n",
              "      <td>48</td>\n",
              "      <td>M</td>\n",
              "      <td>WHITE</td>\n",
              "      <td>LIFE PARTNER</td>\n",
              "      <td>Private</td>\n",
              "      <td>ENGL</td>\n",
              "      <td>70</td>\n",
              "    </tr>\n",
              "    <tr>\n",
              "      <th>4</th>\n",
              "      <td>36043</td>\n",
              "      <td>retired building info systems no tobacco ETOH:...</td>\n",
              "      <td>20</td>\n",
              "      <td>M</td>\n",
              "      <td>HISPANIC OR LATINO</td>\n",
              "      <td>LIFE PARTNER</td>\n",
              "      <td>Medicare</td>\n",
              "      <td>ENGL</td>\n",
              "      <td>145</td>\n",
              "    </tr>\n",
              "    <tr>\n",
              "      <th>...</th>\n",
              "      <td>...</td>\n",
              "      <td>...</td>\n",
              "      <td>...</td>\n",
              "      <td>...</td>\n",
              "      <td>...</td>\n",
              "      <td>...</td>\n",
              "      <td>...</td>\n",
              "      <td>...</td>\n",
              "      <td>...</td>\n",
              "    </tr>\n",
              "    <tr>\n",
              "      <th>36770</th>\n",
              "      <td>7575</td>\n",
              "      <td>The patient is married and lives on with his w...</td>\n",
              "      <td>30</td>\n",
              "      <td>F</td>\n",
              "      <td>WHITE</td>\n",
              "      <td>UNKNOWN (DEFAULT)</td>\n",
              "      <td>Medicare</td>\n",
              "      <td>None</td>\n",
              "      <td>127</td>\n",
              "    </tr>\n",
              "    <tr>\n",
              "      <th>36771</th>\n",
              "      <td>16970</td>\n",
              "      <td>The patient lives with her husband and daughte...</td>\n",
              "      <td>16</td>\n",
              "      <td>F</td>\n",
              "      <td>UNKNOWN/NOT SPECIFIED</td>\n",
              "      <td>UNKNOWN (DEFAULT)</td>\n",
              "      <td>Medicare</td>\n",
              "      <td>None</td>\n",
              "      <td>77</td>\n",
              "    </tr>\n",
              "    <tr>\n",
              "      <th>36772</th>\n",
              "      <td>36924</td>\n",
              "      <td>He is retired () from a clerical job with the ...</td>\n",
              "      <td>29</td>\n",
              "      <td>F</td>\n",
              "      <td>OTHER</td>\n",
              "      <td>UNKNOWN (DEFAULT)</td>\n",
              "      <td>Medicare</td>\n",
              "      <td>ENGL</td>\n",
              "      <td>380</td>\n",
              "    </tr>\n",
              "    <tr>\n",
              "      <th>36773</th>\n",
              "      <td>493</td>\n",
              "      <td>No tobacco, occasional alcohol, married</td>\n",
              "      <td>5</td>\n",
              "      <td>F</td>\n",
              "      <td>UNKNOWN/NOT SPECIFIED</td>\n",
              "      <td>UNKNOWN (DEFAULT)</td>\n",
              "      <td>Medicare</td>\n",
              "      <td>None</td>\n",
              "      <td>-8</td>\n",
              "    </tr>\n",
              "    <tr>\n",
              "      <th>36774</th>\n",
              "      <td>15927</td>\n",
              "      <td>She denied alcohol or tobacco use.</td>\n",
              "      <td>6</td>\n",
              "      <td>M</td>\n",
              "      <td>WHITE</td>\n",
              "      <td>UNKNOWN (DEFAULT)</td>\n",
              "      <td>Medicare</td>\n",
              "      <td>None</td>\n",
              "      <td>-86</td>\n",
              "    </tr>\n",
              "  </tbody>\n",
              "</table>\n",
              "<p>36775 rows × 9 columns</p>\n",
              "</div>\n",
              "    <div class=\"colab-df-buttons\">\n",
              "\n",
              "  <div class=\"colab-df-container\">\n",
              "    <button class=\"colab-df-convert\" onclick=\"convertToInteractive('df-570731d6-4c42-4925-bcb5-35c6b3efaa57')\"\n",
              "            title=\"Convert this dataframe to an interactive table.\"\n",
              "            style=\"display:none;\">\n",
              "\n",
              "  <svg xmlns=\"http://www.w3.org/2000/svg\" height=\"24px\" viewBox=\"0 -960 960 960\">\n",
              "    <path d=\"M120-120v-720h720v720H120Zm60-500h600v-160H180v160Zm220 220h160v-160H400v160Zm0 220h160v-160H400v160ZM180-400h160v-160H180v160Zm440 0h160v-160H620v160ZM180-180h160v-160H180v160Zm440 0h160v-160H620v160Z\"/>\n",
              "  </svg>\n",
              "    </button>\n",
              "\n",
              "  <style>\n",
              "    .colab-df-container {\n",
              "      display:flex;\n",
              "      gap: 12px;\n",
              "    }\n",
              "\n",
              "    .colab-df-convert {\n",
              "      background-color: #E8F0FE;\n",
              "      border: none;\n",
              "      border-radius: 50%;\n",
              "      cursor: pointer;\n",
              "      display: none;\n",
              "      fill: #1967D2;\n",
              "      height: 32px;\n",
              "      padding: 0 0 0 0;\n",
              "      width: 32px;\n",
              "    }\n",
              "\n",
              "    .colab-df-convert:hover {\n",
              "      background-color: #E2EBFA;\n",
              "      box-shadow: 0px 1px 2px rgba(60, 64, 67, 0.3), 0px 1px 3px 1px rgba(60, 64, 67, 0.15);\n",
              "      fill: #174EA6;\n",
              "    }\n",
              "\n",
              "    .colab-df-buttons div {\n",
              "      margin-bottom: 4px;\n",
              "    }\n",
              "\n",
              "    [theme=dark] .colab-df-convert {\n",
              "      background-color: #3B4455;\n",
              "      fill: #D2E3FC;\n",
              "    }\n",
              "\n",
              "    [theme=dark] .colab-df-convert:hover {\n",
              "      background-color: #434B5C;\n",
              "      box-shadow: 0px 1px 3px 1px rgba(0, 0, 0, 0.15);\n",
              "      filter: drop-shadow(0px 1px 2px rgba(0, 0, 0, 0.3));\n",
              "      fill: #FFFFFF;\n",
              "    }\n",
              "  </style>\n",
              "\n",
              "    <script>\n",
              "      const buttonEl =\n",
              "        document.querySelector('#df-570731d6-4c42-4925-bcb5-35c6b3efaa57 button.colab-df-convert');\n",
              "      buttonEl.style.display =\n",
              "        google.colab.kernel.accessAllowed ? 'block' : 'none';\n",
              "\n",
              "      async function convertToInteractive(key) {\n",
              "        const element = document.querySelector('#df-570731d6-4c42-4925-bcb5-35c6b3efaa57');\n",
              "        const dataTable =\n",
              "          await google.colab.kernel.invokeFunction('convertToInteractive',\n",
              "                                                    [key], {});\n",
              "        if (!dataTable) return;\n",
              "\n",
              "        const docLinkHtml = 'Like what you see? Visit the ' +\n",
              "          '<a target=\"_blank\" href=https://colab.research.google.com/notebooks/data_table.ipynb>data table notebook</a>'\n",
              "          + ' to learn more about interactive tables.';\n",
              "        element.innerHTML = '';\n",
              "        dataTable['output_type'] = 'display_data';\n",
              "        await google.colab.output.renderOutput(dataTable, element);\n",
              "        const docLink = document.createElement('div');\n",
              "        docLink.innerHTML = docLinkHtml;\n",
              "        element.appendChild(docLink);\n",
              "      }\n",
              "    </script>\n",
              "  </div>\n",
              "\n",
              "\n",
              "<div id=\"df-b1044506-2cc8-4ddc-9743-b4960558a306\">\n",
              "  <button class=\"colab-df-quickchart\" onclick=\"quickchart('df-b1044506-2cc8-4ddc-9743-b4960558a306')\"\n",
              "            title=\"Suggest charts\"\n",
              "            style=\"display:none;\">\n",
              "\n",
              "<svg xmlns=\"http://www.w3.org/2000/svg\" height=\"24px\"viewBox=\"0 0 24 24\"\n",
              "     width=\"24px\">\n",
              "    <g>\n",
              "        <path d=\"M19 3H5c-1.1 0-2 .9-2 2v14c0 1.1.9 2 2 2h14c1.1 0 2-.9 2-2V5c0-1.1-.9-2-2-2zM9 17H7v-7h2v7zm4 0h-2V7h2v10zm4 0h-2v-4h2v4z\"/>\n",
              "    </g>\n",
              "</svg>\n",
              "  </button>\n",
              "\n",
              "<style>\n",
              "  .colab-df-quickchart {\n",
              "      --bg-color: #E8F0FE;\n",
              "      --fill-color: #1967D2;\n",
              "      --hover-bg-color: #E2EBFA;\n",
              "      --hover-fill-color: #174EA6;\n",
              "      --disabled-fill-color: #AAA;\n",
              "      --disabled-bg-color: #DDD;\n",
              "  }\n",
              "\n",
              "  [theme=dark] .colab-df-quickchart {\n",
              "      --bg-color: #3B4455;\n",
              "      --fill-color: #D2E3FC;\n",
              "      --hover-bg-color: #434B5C;\n",
              "      --hover-fill-color: #FFFFFF;\n",
              "      --disabled-bg-color: #3B4455;\n",
              "      --disabled-fill-color: #666;\n",
              "  }\n",
              "\n",
              "  .colab-df-quickchart {\n",
              "    background-color: var(--bg-color);\n",
              "    border: none;\n",
              "    border-radius: 50%;\n",
              "    cursor: pointer;\n",
              "    display: none;\n",
              "    fill: var(--fill-color);\n",
              "    height: 32px;\n",
              "    padding: 0;\n",
              "    width: 32px;\n",
              "  }\n",
              "\n",
              "  .colab-df-quickchart:hover {\n",
              "    background-color: var(--hover-bg-color);\n",
              "    box-shadow: 0 1px 2px rgba(60, 64, 67, 0.3), 0 1px 3px 1px rgba(60, 64, 67, 0.15);\n",
              "    fill: var(--button-hover-fill-color);\n",
              "  }\n",
              "\n",
              "  .colab-df-quickchart-complete:disabled,\n",
              "  .colab-df-quickchart-complete:disabled:hover {\n",
              "    background-color: var(--disabled-bg-color);\n",
              "    fill: var(--disabled-fill-color);\n",
              "    box-shadow: none;\n",
              "  }\n",
              "\n",
              "  .colab-df-spinner {\n",
              "    border: 2px solid var(--fill-color);\n",
              "    border-color: transparent;\n",
              "    border-bottom-color: var(--fill-color);\n",
              "    animation:\n",
              "      spin 1s steps(1) infinite;\n",
              "  }\n",
              "\n",
              "  @keyframes spin {\n",
              "    0% {\n",
              "      border-color: transparent;\n",
              "      border-bottom-color: var(--fill-color);\n",
              "      border-left-color: var(--fill-color);\n",
              "    }\n",
              "    20% {\n",
              "      border-color: transparent;\n",
              "      border-left-color: var(--fill-color);\n",
              "      border-top-color: var(--fill-color);\n",
              "    }\n",
              "    30% {\n",
              "      border-color: transparent;\n",
              "      border-left-color: var(--fill-color);\n",
              "      border-top-color: var(--fill-color);\n",
              "      border-right-color: var(--fill-color);\n",
              "    }\n",
              "    40% {\n",
              "      border-color: transparent;\n",
              "      border-right-color: var(--fill-color);\n",
              "      border-top-color: var(--fill-color);\n",
              "    }\n",
              "    60% {\n",
              "      border-color: transparent;\n",
              "      border-right-color: var(--fill-color);\n",
              "    }\n",
              "    80% {\n",
              "      border-color: transparent;\n",
              "      border-right-color: var(--fill-color);\n",
              "      border-bottom-color: var(--fill-color);\n",
              "    }\n",
              "    90% {\n",
              "      border-color: transparent;\n",
              "      border-bottom-color: var(--fill-color);\n",
              "    }\n",
              "  }\n",
              "</style>\n",
              "\n",
              "  <script>\n",
              "    async function quickchart(key) {\n",
              "      const quickchartButtonEl =\n",
              "        document.querySelector('#' + key + ' button');\n",
              "      quickchartButtonEl.disabled = true;  // To prevent multiple clicks.\n",
              "      quickchartButtonEl.classList.add('colab-df-spinner');\n",
              "      try {\n",
              "        const charts = await google.colab.kernel.invokeFunction(\n",
              "            'suggestCharts', [key], {});\n",
              "      } catch (error) {\n",
              "        console.error('Error during call to suggestCharts:', error);\n",
              "      }\n",
              "      quickchartButtonEl.classList.remove('colab-df-spinner');\n",
              "      quickchartButtonEl.classList.add('colab-df-quickchart-complete');\n",
              "    }\n",
              "    (() => {\n",
              "      let quickchartButtonEl =\n",
              "        document.querySelector('#df-b1044506-2cc8-4ddc-9743-b4960558a306 button');\n",
              "      quickchartButtonEl.style.display =\n",
              "        google.colab.kernel.accessAllowed ? 'block' : 'none';\n",
              "    })();\n",
              "  </script>\n",
              "</div>\n",
              "\n",
              "  <div id=\"id_12eafde9-8d99-4a44-b52e-2b6e6b1e08c2\">\n",
              "    <style>\n",
              "      .colab-df-generate {\n",
              "        background-color: #E8F0FE;\n",
              "        border: none;\n",
              "        border-radius: 50%;\n",
              "        cursor: pointer;\n",
              "        display: none;\n",
              "        fill: #1967D2;\n",
              "        height: 32px;\n",
              "        padding: 0 0 0 0;\n",
              "        width: 32px;\n",
              "      }\n",
              "\n",
              "      .colab-df-generate:hover {\n",
              "        background-color: #E2EBFA;\n",
              "        box-shadow: 0px 1px 2px rgba(60, 64, 67, 0.3), 0px 1px 3px 1px rgba(60, 64, 67, 0.15);\n",
              "        fill: #174EA6;\n",
              "      }\n",
              "\n",
              "      [theme=dark] .colab-df-generate {\n",
              "        background-color: #3B4455;\n",
              "        fill: #D2E3FC;\n",
              "      }\n",
              "\n",
              "      [theme=dark] .colab-df-generate:hover {\n",
              "        background-color: #434B5C;\n",
              "        box-shadow: 0px 1px 3px 1px rgba(0, 0, 0, 0.15);\n",
              "        filter: drop-shadow(0px 1px 2px rgba(0, 0, 0, 0.3));\n",
              "        fill: #FFFFFF;\n",
              "      }\n",
              "    </style>\n",
              "    <button class=\"colab-df-generate\" onclick=\"generateWithVariable('merged_df')\"\n",
              "            title=\"Generate code using this dataframe.\"\n",
              "            style=\"display:none;\">\n",
              "\n",
              "  <svg xmlns=\"http://www.w3.org/2000/svg\" height=\"24px\"viewBox=\"0 0 24 24\"\n",
              "       width=\"24px\">\n",
              "    <path d=\"M7,19H8.4L18.45,9,17,7.55,7,17.6ZM5,21V16.75L18.45,3.32a2,2,0,0,1,2.83,0l1.4,1.43a1.91,1.91,0,0,1,.58,1.4,1.91,1.91,0,0,1-.58,1.4L9.25,21ZM18.45,9,17,7.55Zm-12,3A5.31,5.31,0,0,0,4.9,8.1,5.31,5.31,0,0,0,1,6.5,5.31,5.31,0,0,0,4.9,4.9,5.31,5.31,0,0,0,6.5,1,5.31,5.31,0,0,0,8.1,4.9,5.31,5.31,0,0,0,12,6.5,5.46,5.46,0,0,0,6.5,12Z\"/>\n",
              "  </svg>\n",
              "    </button>\n",
              "    <script>\n",
              "      (() => {\n",
              "      const buttonEl =\n",
              "        document.querySelector('#id_12eafde9-8d99-4a44-b52e-2b6e6b1e08c2 button.colab-df-generate');\n",
              "      buttonEl.style.display =\n",
              "        google.colab.kernel.accessAllowed ? 'block' : 'none';\n",
              "\n",
              "      buttonEl.onclick = () => {\n",
              "        google.colab.notebook.generateWithVariable('merged_df');\n",
              "      }\n",
              "      })();\n",
              "    </script>\n",
              "  </div>\n",
              "\n",
              "    </div>\n",
              "  </div>\n"
            ],
            "application/vnd.google.colaboratory.intrinsic+json": {
              "type": "dataframe",
              "variable_name": "merged_df",
              "summary": "{\n  \"name\": \"merged_df\",\n  \"rows\": 36775,\n  \"fields\": [\n    {\n      \"column\": \"ROW_ID\",\n      \"properties\": {\n        \"dtype\": \"Int64\",\n        \"num_unique_values\": 36775,\n        \"samples\": [\n          9232,\n          42950,\n          43071\n        ],\n        \"semantic_type\": \"\",\n        \"description\": \"\"\n      }\n    },\n    {\n      \"column\": \"processed_text\",\n      \"properties\": {\n        \"dtype\": \"string\",\n        \"num_unique_values\": 33034,\n        \"samples\": [\n          \"30-pack-year history of smoking. Quit one year ago. No recent alcohol use. Denies illicits. Lives with wife. speaking\",\n          \"Lives w/ husband. smoking hx: 30 pack years; quit 30 yrs ago. No EtOH or drug use.\",\n          \"Forty pack year history. He is also engaged to be married. Fiance was his health care proxy.\"\n        ],\n        \"semantic_type\": \"\",\n        \"description\": \"\"\n      }\n    },\n    {\n      \"column\": \"word_count\",\n      \"properties\": {\n        \"dtype\": \"number\",\n        \"std\": 20,\n        \"min\": 0,\n        \"max\": 771,\n        \"num_unique_values\": 185,\n        \"samples\": [\n          5,\n          28,\n          124\n        ],\n        \"semantic_type\": \"\",\n        \"description\": \"\"\n      }\n    },\n    {\n      \"column\": \"GENDER\",\n      \"properties\": {\n        \"dtype\": \"category\",\n        \"num_unique_values\": 2,\n        \"samples\": [\n          \"F\",\n          \"M\"\n        ],\n        \"semantic_type\": \"\",\n        \"description\": \"\"\n      }\n    },\n    {\n      \"column\": \"ETHNICITY\",\n      \"properties\": {\n        \"dtype\": \"category\",\n        \"num_unique_values\": 41,\n        \"samples\": [\n          \"BLACK/AFRICAN\",\n          \"HISPANIC/LATINO - PUERTO RICAN\"\n        ],\n        \"semantic_type\": \"\",\n        \"description\": \"\"\n      }\n    },\n    {\n      \"column\": \"MARITAL_STATUS\",\n      \"properties\": {\n        \"dtype\": \"category\",\n        \"num_unique_values\": 7,\n        \"samples\": [\n          \"LIFE PARTNER\",\n          \"SINGLE\"\n        ],\n        \"semantic_type\": \"\",\n        \"description\": \"\"\n      }\n    },\n    {\n      \"column\": \"INSURANCE\",\n      \"properties\": {\n        \"dtype\": \"category\",\n        \"num_unique_values\": 5,\n        \"samples\": [\n          \"Medicare\",\n          \"Self Pay\"\n        ],\n        \"semantic_type\": \"\",\n        \"description\": \"\"\n      }\n    },\n    {\n      \"column\": \"LANGUAGE\",\n      \"properties\": {\n        \"dtype\": \"category\",\n        \"num_unique_values\": 62,\n        \"samples\": [\n          \"*BOS\",\n          \"GERM\"\n        ],\n        \"semantic_type\": \"\",\n        \"description\": \"\"\n      }\n    },\n    {\n      \"column\": \"AGE\",\n      \"properties\": {\n        \"dtype\": \"Int64\",\n        \"num_unique_values\": 477,\n        \"samples\": [\n          182,\n          152\n        ],\n        \"semantic_type\": \"\",\n        \"description\": \"\"\n      }\n    }\n  ]\n}"
            }
          },
          "metadata": {},
          "execution_count": 44
        }
      ]
    },
    {
      "cell_type": "code",
      "source": [
        "\n",
        "import matplotlib.pyplot as plt\n",
        "\n",
        "# Filter out rows with word count of 0\n",
        "df_test_filtered = merged_df[merged_df['word_count'] < 256]\n",
        "\n",
        "# Plot the distribution of word counts\n",
        "df_test_filtered['word_count'].plot(kind='hist', bins=50)\n",
        "plt.xlabel('Word Count')\n",
        "plt.ylabel('Frequency')\n",
        "plt.title('Distribution of Word Counts in Social History Section')\n",
        "plt.show()\n"
      ],
      "metadata": {
        "colab": {
          "base_uri": "https://localhost:8080/",
          "height": 528
        },
        "id": "dd2wRm0dIOp5",
        "outputId": "d4662339-e3bc-4f5e-9d61-085a69578a2c"
      },
      "execution_count": 47,
      "outputs": [
        {
          "output_type": "stream",
          "name": "stderr",
          "text": [
            "/usr/local/lib/python3.10/dist-packages/ipykernel/ipkernel.py:283: DeprecationWarning: `should_run_async` will not call `transform_cell` automatically in the future. Please pass the result to `transformed_cell` argument and any exception that happen during thetransform in `preprocessing_exc_tuple` in IPython 7.17 and above.\n",
            "  and should_run_async(code)\n"
          ]
        },
        {
          "output_type": "display_data",
          "data": {
            "text/plain": [
              "<Figure size 640x480 with 1 Axes>"
            ],
            "image/png": "[encoded data removed]"
          },
          "metadata": {}
        }
      ]
    },
    {
      "cell_type": "code",
      "source": [
        "len(df_test_filtered)"
      ],
      "metadata": {
        "colab": {
          "base_uri": "https://localhost:8080/"
        },
        "id": "2zevxRCMIUGT",
        "outputId": "ca7d5080-5b1e-4513-a394-6478ed0e2381"
      },
      "execution_count": 48,
      "outputs": [
        {
          "output_type": "stream",
          "name": "stderr",
          "text": [
            "/usr/local/lib/python3.10/dist-packages/ipykernel/ipkernel.py:283: DeprecationWarning: `should_run_async` will not call `transform_cell` automatically in the future. Please pass the result to `transformed_cell` argument and any exception that happen during thetransform in `preprocessing_exc_tuple` in IPython 7.17 and above.\n",
            "  and should_run_async(code)\n"
          ]
        },
        {
          "output_type": "execute_result",
          "data": {
            "text/plain": [
              "36767"
            ]
          },
          "metadata": {},
          "execution_count": 48
        }
      ]
    },
    {
      "cell_type": "code",
      "source": [
        "# prompt: save df_test_filtered in my drive\n",
        "\n",
        "df_test_filtered.to_csv('/content/drive/MyDrive/df_test_filtered.csv')\n"
      ],
      "metadata": {
        "colab": {
          "base_uri": "https://localhost:8080/"
        },
        "id": "WgdWoJBXI4ZE",
        "outputId": "1b23862b-3097-43b7-980e-0754ab61b398"
      },
      "execution_count": 49,
      "outputs": [
        {
          "output_type": "stream",
          "name": "stderr",
          "text": [
            "/usr/local/lib/python3.10/dist-packages/ipykernel/ipkernel.py:283: DeprecationWarning: `should_run_async` will not call `transform_cell` automatically in the future. Please pass the result to `transformed_cell` argument and any exception that happen during thetransform in `preprocessing_exc_tuple` in IPython 7.17 and above.\n",
            "  and should_run_async(code)\n"
          ]
        }
      ]
    },
    {
      "cell_type": "code",
      "source": [
        "df_notes_demographics"
      ],
      "metadata": {
        "id": "Si-v9Af_C5du"
      },
      "execution_count": null,
      "outputs": []
    },
    {
      "cell_type": "code",
      "source": [
        "query = \"\"\"\n",
        "SELECT\n",
        "    p.SUBJECT_ID,  # Changed from p.ROW_ID for clarity, assuming you want the unique patient identifier\n",
        "    p.GENDER,\n",
        "    a.ETHNICITY,\n",
        "    a.MARITAL_STATUS,\n",
        "    a.INSURANCE,\n",
        "    a.LANGUAGE,\n",
        "    DATE_DIFF(DATE(a.ADMITTIME), DATE(p.DOB), YEAR) AS AGE\n",
        "FROM `physionet-data.mimiciii_notes.noteevents` n\n",
        "JOIN `physionet-data.mimiciii_clinical.patients` p ON n.SUBJECT_ID = p.SUBJECT_ID\n",
        "JOIN `physionet-data.mimiciii_clinical.admissions` a ON n.SUBJECT_ID = a.SUBJECT_ID\n",
        "WHERE a.LANGUAGE = 'ENGL'\n",
        "\"\"\"\n",
        "\n",
        "# Execute the query\n",
        "query_job = client.query(query)  # No need for job_config since we're not using parameters here\n",
        "df_all_patients_demographics = query_job.to_dataframe()\n"
      ],
      "metadata": {
        "id": "lBZgsdDU2yvy"
      },
      "execution_count": null,
      "outputs": []
    },
    {
      "cell_type": "code",
      "source": [
        "df_notes_demographics.head()"
      ],
      "metadata": {
        "colab": {
          "base_uri": "https://localhost:8080/",
          "height": 285
        },
        "id": "9h8H_LYFh_89",
        "outputId": "d80df0ef-7038-456c-d88e-e732521f879e"
      },
      "execution_count": null,
      "outputs": [
        {
          "output_type": "stream",
          "name": "stderr",
          "text": [
            "/usr/local/lib/python3.10/dist-packages/ipykernel/ipkernel.py:283: DeprecationWarning: `should_run_async` will not call `transform_cell` automatically in the future. Please pass the result to `transformed_cell` argument and any exception that happen during thetransform in `preprocessing_exc_tuple` in IPython 7.17 and above.\n",
            "  and should_run_async(code)\n"
          ]
        },
        {
          "output_type": "execute_result",
          "data": {
            "text/plain": [
              "   ROW_ID GENDER ETHNICITY MARITAL_STATUS INSURANCE LANGUAGE  AGE\n",
              "0   28336      M     WHITE        WIDOWED  Medicare     ENGL  300\n",
              "1   36621      F     OTHER        MARRIED  Medicare     ENGL   51\n",
              "2   44156      M     WHITE        MARRIED  Medicare     ENGL   67\n",
              "3   17133      M     WHITE        MARRIED   Private     ENGL   54\n",
              "4   37037      M     WHITE         SINGLE  Medicaid     ENGL   51"
            ],
            "text/html": [
              "\n",
              "  <div id=\"df-fb04c363-5f16-46fa-b3bb-3c9dc39ddd68\" class=\"colab-df-container\">\n",
              "    <div>\n",
              "<style scoped>\n",
              "    .dataframe tbody tr th:only-of-type {\n",
              "        vertical-align: middle;\n",
              "    }\n",
              "\n",
              "    .dataframe tbody tr th {\n",
              "        vertical-align: top;\n",
              "    }\n",
              "\n",
              "    .dataframe thead th {\n",
              "        text-align: right;\n",
              "    }\n",
              "</style>\n",
              "<table border=\"1\" class=\"dataframe\">\n",
              "  <thead>\n",
              "    <tr style=\"text-align: right;\">\n",
              "      <th></th>\n",
              "      <th>ROW_ID</th>\n",
              "      <th>GENDER</th>\n",
              "      <th>ETHNICITY</th>\n",
              "      <th>MARITAL_STATUS</th>\n",
              "      <th>INSURANCE</th>\n",
              "      <th>LANGUAGE</th>\n",
              "      <th>AGE</th>\n",
              "    </tr>\n",
              "  </thead>\n",
              "  <tbody>\n",
              "    <tr>\n",
              "      <th>0</th>\n",
              "      <td>28336</td>\n",
              "      <td>M</td>\n",
              "      <td>WHITE</td>\n",
              "      <td>WIDOWED</td>\n",
              "      <td>Medicare</td>\n",
              "      <td>ENGL</td>\n",
              "      <td>300</td>\n",
              "    </tr>\n",
              "    <tr>\n",
              "      <th>1</th>\n",
              "      <td>36621</td>\n",
              "      <td>F</td>\n",
              "      <td>OTHER</td>\n",
              "      <td>MARRIED</td>\n",
              "      <td>Medicare</td>\n",
              "      <td>ENGL</td>\n",
              "      <td>51</td>\n",
              "    </tr>\n",
              "    <tr>\n",
              "      <th>2</th>\n",
              "      <td>44156</td>\n",
              "      <td>M</td>\n",
              "      <td>WHITE</td>\n",
              "      <td>MARRIED</td>\n",
              "      <td>Medicare</td>\n",
              "      <td>ENGL</td>\n",
              "      <td>67</td>\n",
              "    </tr>\n",
              "    <tr>\n",
              "      <th>3</th>\n",
              "      <td>17133</td>\n",
              "      <td>M</td>\n",
              "      <td>WHITE</td>\n",
              "      <td>MARRIED</td>\n",
              "      <td>Private</td>\n",
              "      <td>ENGL</td>\n",
              "      <td>54</td>\n",
              "    </tr>\n",
              "    <tr>\n",
              "      <th>4</th>\n",
              "      <td>37037</td>\n",
              "      <td>M</td>\n",
              "      <td>WHITE</td>\n",
              "      <td>SINGLE</td>\n",
              "      <td>Medicaid</td>\n",
              "      <td>ENGL</td>\n",
              "      <td>51</td>\n",
              "    </tr>\n",
              "  </tbody>\n",
              "</table>\n",
              "</div>\n",
              "    <div class=\"colab-df-buttons\">\n",
              "\n",
              "  <div class=\"colab-df-container\">\n",
              "    <button class=\"colab-df-convert\" onclick=\"convertToInteractive('df-fb04c363-5f16-46fa-b3bb-3c9dc39ddd68')\"\n",
              "            title=\"Convert this dataframe to an interactive table.\"\n",
              "            style=\"display:none;\">\n",
              "\n",
              "  <svg xmlns=\"http://www.w3.org/2000/svg\" height=\"24px\" viewBox=\"0 -960 960 960\">\n",
              "    <path d=\"M120-120v-720h720v720H120Zm60-500h600v-160H180v160Zm220 220h160v-160H400v160Zm0 220h160v-160H400v160ZM180-400h160v-160H180v160Zm440 0h160v-160H620v160ZM180-180h160v-160H180v160Zm440 0h160v-160H620v160Z\"/>\n",
              "  </svg>\n",
              "    </button>\n",
              "\n",
              "  <style>\n",
              "    .colab-df-container {\n",
              "      display:flex;\n",
              "      gap: 12px;\n",
              "    }\n",
              "\n",
              "    .colab-df-convert {\n",
              "      background-color: #E8F0FE;\n",
              "      border: none;\n",
              "      border-radius: 50%;\n",
              "      cursor: pointer;\n",
              "      display: none;\n",
              "      fill: #1967D2;\n",
              "      height: 32px;\n",
              "      padding: 0 0 0 0;\n",
              "      width: 32px;\n",
              "    }\n",
              "\n",
              "    .colab-df-convert:hover {\n",
              "      background-color: #E2EBFA;\n",
              "      box-shadow: 0px 1px 2px rgba(60, 64, 67, 0.3), 0px 1px 3px 1px rgba(60, 64, 67, 0.15);\n",
              "      fill: #174EA6;\n",
              "    }\n",
              "\n",
              "    .colab-df-buttons div {\n",
              "      margin-bottom: 4px;\n",
              "    }\n",
              "\n",
              "    [theme=dark] .colab-df-convert {\n",
              "      background-color: #3B4455;\n",
              "      fill: #D2E3FC;\n",
              "    }\n",
              "\n",
              "    [theme=dark] .colab-df-convert:hover {\n",
              "      background-color: #434B5C;\n",
              "      box-shadow: 0px 1px 3px 1px rgba(0, 0, 0, 0.15);\n",
              "      filter: drop-shadow(0px 1px 2px rgba(0, 0, 0, 0.3));\n",
              "      fill: #FFFFFF;\n",
              "    }\n",
              "  </style>\n",
              "\n",
              "    <script>\n",
              "      const buttonEl =\n",
              "        document.querySelector('#df-fb04c363-5f16-46fa-b3bb-3c9dc39ddd68 button.colab-df-convert');\n",
              "      buttonEl.style.display =\n",
              "        google.colab.kernel.accessAllowed ? 'block' : 'none';\n",
              "\n",
              "      async function convertToInteractive(key) {\n",
              "        const element = document.querySelector('#df-fb04c363-5f16-46fa-b3bb-3c9dc39ddd68');\n",
              "        const dataTable =\n",
              "          await google.colab.kernel.invokeFunction('convertToInteractive',\n",
              "                                                    [key], {});\n",
              "        if (!dataTable) return;\n",
              "\n",
              "        const docLinkHtml = 'Like what you see? Visit the ' +\n",
              "          '<a target=\"_blank\" href=https://colab.research.google.com/notebooks/data_table.ipynb>data table notebook</a>'\n",
              "          + ' to learn more about interactive tables.';\n",
              "        element.innerHTML = '';\n",
              "        dataTable['output_type'] = 'display_data';\n",
              "        await google.colab.output.renderOutput(dataTable, element);\n",
              "        const docLink = document.createElement('div');\n",
              "        docLink.innerHTML = docLinkHtml;\n",
              "        element.appendChild(docLink);\n",
              "      }\n",
              "    </script>\n",
              "  </div>\n",
              "\n",
              "\n",
              "<div id=\"df-0635ca09-8787-44a7-bb36-bf16d40ca85b\">\n",
              "  <button class=\"colab-df-quickchart\" onclick=\"quickchart('df-0635ca09-8787-44a7-bb36-bf16d40ca85b')\"\n",
              "            title=\"Suggest charts\"\n",
              "            style=\"display:none;\">\n",
              "\n",
              "<svg xmlns=\"http://www.w3.org/2000/svg\" height=\"24px\"viewBox=\"0 0 24 24\"\n",
              "     width=\"24px\">\n",
              "    <g>\n",
              "        <path d=\"M19 3H5c-1.1 0-2 .9-2 2v14c0 1.1.9 2 2 2h14c1.1 0 2-.9 2-2V5c0-1.1-.9-2-2-2zM9 17H7v-7h2v7zm4 0h-2V7h2v10zm4 0h-2v-4h2v4z\"/>\n",
              "    </g>\n",
              "</svg>\n",
              "  </button>\n",
              "\n",
              "<style>\n",
              "  .colab-df-quickchart {\n",
              "      --bg-color: #E8F0FE;\n",
              "      --fill-color: #1967D2;\n",
              "      --hover-bg-color: #E2EBFA;\n",
              "      --hover-fill-color: #174EA6;\n",
              "      --disabled-fill-color: #AAA;\n",
              "      --disabled-bg-color: #DDD;\n",
              "  }\n",
              "\n",
              "  [theme=dark] .colab-df-quickchart {\n",
              "      --bg-color: #3B4455;\n",
              "      --fill-color: #D2E3FC;\n",
              "      --hover-bg-color: #434B5C;\n",
              "      --hover-fill-color: #FFFFFF;\n",
              "      --disabled-bg-color: #3B4455;\n",
              "      --disabled-fill-color: #666;\n",
              "  }\n",
              "\n",
              "  .colab-df-quickchart {\n",
              "    background-color: var(--bg-color);\n",
              "    border: none;\n",
              "    border-radius: 50%;\n",
              "    cursor: pointer;\n",
              "    display: none;\n",
              "    fill: var(--fill-color);\n",
              "    height: 32px;\n",
              "    padding: 0;\n",
              "    width: 32px;\n",
              "  }\n",
              "\n",
              "  .colab-df-quickchart:hover {\n",
              "    background-color: var(--hover-bg-color);\n",
              "    box-shadow: 0 1px 2px rgba(60, 64, 67, 0.3), 0 1px 3px 1px rgba(60, 64, 67, 0.15);\n",
              "    fill: var(--button-hover-fill-color);\n",
              "  }\n",
              "\n",
              "  .colab-df-quickchart-complete:disabled,\n",
              "  .colab-df-quickchart-complete:disabled:hover {\n",
              "    background-color: var(--disabled-bg-color);\n",
              "    fill: var(--disabled-fill-color);\n",
              "    box-shadow: none;\n",
              "  }\n",
              "\n",
              "  .colab-df-spinner {\n",
              "    border: 2px solid var(--fill-color);\n",
              "    border-color: transparent;\n",
              "    border-bottom-color: var(--fill-color);\n",
              "    animation:\n",
              "      spin 1s steps(1) infinite;\n",
              "  }\n",
              "\n",
              "  @keyframes spin {\n",
              "    0% {\n",
              "      border-color: transparent;\n",
              "      border-bottom-color: var(--fill-color);\n",
              "      border-left-color: var(--fill-color);\n",
              "    }\n",
              "    20% {\n",
              "      border-color: transparent;\n",
              "      border-left-color: var(--fill-color);\n",
              "      border-top-color: var(--fill-color);\n",
              "    }\n",
              "    30% {\n",
              "      border-color: transparent;\n",
              "      border-left-color: var(--fill-color);\n",
              "      border-top-color: var(--fill-color);\n",
              "      border-right-color: var(--fill-color);\n",
              "    }\n",
              "    40% {\n",
              "      border-color: transparent;\n",
              "      border-right-color: var(--fill-color);\n",
              "      border-top-color: var(--fill-color);\n",
              "    }\n",
              "    60% {\n",
              "      border-color: transparent;\n",
              "      border-right-color: var(--fill-color);\n",
              "    }\n",
              "    80% {\n",
              "      border-color: transparent;\n",
              "      border-right-color: var(--fill-color);\n",
              "      border-bottom-color: var(--fill-color);\n",
              "    }\n",
              "    90% {\n",
              "      border-color: transparent;\n",
              "      border-bottom-color: var(--fill-color);\n",
              "    }\n",
              "  }\n",
              "</style>\n",
              "\n",
              "  <script>\n",
              "    async function quickchart(key) {\n",
              "      const quickchartButtonEl =\n",
              "        document.querySelector('#' + key + ' button');\n",
              "      quickchartButtonEl.disabled = true;  // To prevent multiple clicks.\n",
              "      quickchartButtonEl.classList.add('colab-df-spinner');\n",
              "      try {\n",
              "        const charts = await google.colab.kernel.invokeFunction(\n",
              "            'suggestCharts', [key], {});\n",
              "      } catch (error) {\n",
              "        console.error('Error during call to suggestCharts:', error);\n",
              "      }\n",
              "      quickchartButtonEl.classList.remove('colab-df-spinner');\n",
              "      quickchartButtonEl.classList.add('colab-df-quickchart-complete');\n",
              "    }\n",
              "    (() => {\n",
              "      let quickchartButtonEl =\n",
              "        document.querySelector('#df-0635ca09-8787-44a7-bb36-bf16d40ca85b button');\n",
              "      quickchartButtonEl.style.display =\n",
              "        google.colab.kernel.accessAllowed ? 'block' : 'none';\n",
              "    })();\n",
              "  </script>\n",
              "</div>\n",
              "\n",
              "    </div>\n",
              "  </div>\n"
            ],
            "application/vnd.google.colaboratory.intrinsic+json": {
              "type": "dataframe",
              "variable_name": "df_notes_demographics",
              "summary": "{\n  \"name\": \"df_notes_demographics\",\n  \"rows\": 9412,\n  \"fields\": [\n    {\n      \"column\": \"ROW_ID\",\n      \"properties\": {\n        \"dtype\": \"Int64\",\n        \"num_unique_values\": 3826,\n        \"samples\": [\n          31295,\n          25976,\n          25932\n        ],\n        \"semantic_type\": \"\",\n        \"description\": \"\"\n      }\n    },\n    {\n      \"column\": \"GENDER\",\n      \"properties\": {\n        \"dtype\": \"category\",\n        \"num_unique_values\": 2,\n        \"samples\": [\n          \"F\",\n          \"M\"\n        ],\n        \"semantic_type\": \"\",\n        \"description\": \"\"\n      }\n    },\n    {\n      \"column\": \"ETHNICITY\",\n      \"properties\": {\n        \"dtype\": \"category\",\n        \"num_unique_values\": 30,\n        \"samples\": [\n          \"WHITE - RUSSIAN\",\n          \"BLACK/HAITIAN\"\n        ],\n        \"semantic_type\": \"\",\n        \"description\": \"\"\n      }\n    },\n    {\n      \"column\": \"MARITAL_STATUS\",\n      \"properties\": {\n        \"dtype\": \"category\",\n        \"num_unique_values\": 7,\n        \"samples\": [\n          \"WIDOWED\",\n          \"MARRIED\"\n        ],\n        \"semantic_type\": \"\",\n        \"description\": \"\"\n      }\n    },\n    {\n      \"column\": \"INSURANCE\",\n      \"properties\": {\n        \"dtype\": \"category\",\n        \"num_unique_values\": 5,\n        \"samples\": [\n          \"Private\",\n          \"Government\"\n        ],\n        \"semantic_type\": \"\",\n        \"description\": \"\"\n      }\n    },\n    {\n      \"column\": \"LANGUAGE\",\n      \"properties\": {\n        \"dtype\": \"category\",\n        \"num_unique_values\": 1,\n        \"samples\": [\n          \"ENGL\"\n        ],\n        \"semantic_type\": \"\",\n        \"description\": \"\"\n      }\n    },\n    {\n      \"column\": \"AGE\",\n      \"properties\": {\n        \"dtype\": \"Int64\",\n        \"num_unique_values\": 84,\n        \"samples\": [\n          305\n        ],\n        \"semantic_type\": \"\",\n        \"description\": \"\"\n      }\n    }\n  ]\n}"
            },
            "application/vnd.google.colaboratory.module+javascript": "\n      import \"https://ssl.gstatic.com/colaboratory/data_table/881c4a0d49046431/data_table.js\";\n\n      const table = window.createDataTable({\n        data: [[{\n            'v': 0,\n            'f': \"0\",\n        },\n{\n            'v': 28336,\n            'f': \"28336\",\n        },\n\"M\",\n\"WHITE\",\n\"WIDOWED\",\n\"Medicare\",\n\"ENGL\",\n{\n            'v': 300,\n            'f': \"300\",\n        }],\n [{\n            'v': 1,\n            'f': \"1\",\n        },\n{\n            'v': 36621,\n            'f': \"36621\",\n        },\n\"F\",\n\"OTHER\",\n\"MARRIED\",\n\"Medicare\",\n\"ENGL\",\n{\n            'v': 51,\n            'f': \"51\",\n        }],\n [{\n            'v': 2,\n            'f': \"2\",\n        },\n{\n            'v': 44156,\n            'f': \"44156\",\n        },\n\"M\",\n\"WHITE\",\n\"MARRIED\",\n\"Medicare\",\n\"ENGL\",\n{\n            'v': 67,\n            'f': \"67\",\n        }],\n [{\n            'v': 3,\n            'f': \"3\",\n        },\n{\n            'v': 17133,\n            'f': \"17133\",\n        },\n\"M\",\n\"WHITE\",\n\"MARRIED\",\n\"Private\",\n\"ENGL\",\n{\n            'v': 54,\n            'f': \"54\",\n        }],\n [{\n            'v': 4,\n            'f': \"4\",\n        },\n{\n            'v': 37037,\n            'f': \"37037\",\n        },\n\"M\",\n\"WHITE\",\n\"SINGLE\",\n\"Medicaid\",\n\"ENGL\",\n{\n            'v': 51,\n            'f': \"51\",\n        }]],\n        columns: [[\"number\", \"index\"], [\"number\", \"ROW_ID\"], [\"string\", \"GENDER\"], [\"string\", \"ETHNICITY\"], [\"string\", \"MARITAL_STATUS\"], [\"string\", \"INSURANCE\"], [\"string\", \"LANGUAGE\"], [\"number\", \"AGE\"]],\n        columnOptions: [{\"width\": \"1px\", \"className\": \"index_column\"}],\n        rowsPerPage: 25,\n        helpUrl: \"https://colab.research.google.com/notebooks/data_table.ipynb\",\n        suppressOutputScrolling: true,\n        minimumWidth: undefined,\n      });\n\n      function appendQuickchartButton(parentElement) {\n        let quickchartButtonContainerElement = document.createElement('div');\n        quickchartButtonContainerElement.innerHTML = `\n<div id=\"df-f40e96ea-65c2-4f78-ac05-c3d75024fbf1\">\n  <button class=\"colab-df-quickchart\" onclick=\"quickchart('df-f40e96ea-65c2-4f78-ac05-c3d75024fbf1')\"\n            title=\"Suggest charts\"\n            style=\"display:none;\">\n    \n<svg xmlns=\"http://www.w3.org/2000/svg\" height=\"24px\"viewBox=\"0 0 24 24\"\n     width=\"24px\">\n    <g>\n        <path d=\"M19 3H5c-1.1 0-2 .9-2 2v14c0 1.1.9 2 2 2h14c1.1 0 2-.9 2-2V5c0-1.1-.9-2-2-2zM9 17H7v-7h2v7zm4 0h-2V7h2v10zm4 0h-2v-4h2v4z\"/>\n    </g>\n</svg>\n  </button>\n  \n<style>\n  .colab-df-quickchart {\n      --bg-color: #E8F0FE;\n      --fill-color: #1967D2;\n      --hover-bg-color: #E2EBFA;\n      --hover-fill-color: #174EA6;\n      --disabled-fill-color: #AAA;\n      --disabled-bg-color: #DDD;\n  }\n\n  [theme=dark] .colab-df-quickchart {\n      --bg-color: #3B4455;\n      --fill-color: #D2E3FC;\n      --hover-bg-color: #434B5C;\n      --hover-fill-color: #FFFFFF;\n      --disabled-bg-color: #3B4455;\n      --disabled-fill-color: #666;\n  }\n\n  .colab-df-quickchart {\n    background-color: var(--bg-color);\n    border: none;\n    border-radius: 50%;\n    cursor: pointer;\n    display: none;\n    fill: var(--fill-color);\n    height: 32px;\n    padding: 0;\n    width: 32px;\n  }\n\n  .colab-df-quickchart:hover {\n    background-color: var(--hover-bg-color);\n    box-shadow: 0 1px 2px rgba(60, 64, 67, 0.3), 0 1px 3px 1px rgba(60, 64, 67, 0.15);\n    fill: var(--button-hover-fill-color);\n  }\n\n  .colab-df-quickchart-complete:disabled,\n  .colab-df-quickchart-complete:disabled:hover {\n    background-color: var(--disabled-bg-color);\n    fill: var(--disabled-fill-color);\n    box-shadow: none;\n  }\n\n  .colab-df-spinner {\n    border: 2px solid var(--fill-color);\n    border-color: transparent;\n    border-bottom-color: var(--fill-color);\n    animation:\n      spin 1s steps(1) infinite;\n  }\n\n  @keyframes spin {\n    0% {\n      border-color: transparent;\n      border-bottom-color: var(--fill-color);\n      border-left-color: var(--fill-color);\n    }\n    20% {\n      border-color: transparent;\n      border-left-color: var(--fill-color);\n      border-top-color: var(--fill-color);\n    }\n    30% {\n      border-color: transparent;\n      border-left-color: var(--fill-color);\n      border-top-color: var(--fill-color);\n      border-right-color: var(--fill-color);\n    }\n    40% {\n      border-color: transparent;\n      border-right-color: var(--fill-color);\n      border-top-color: var(--fill-color);\n    }\n    60% {\n      border-color: transparent;\n      border-right-color: var(--fill-color);\n    }\n    80% {\n      border-color: transparent;\n      border-right-color: var(--fill-color);\n      border-bottom-color: var(--fill-color);\n    }\n    90% {\n      border-color: transparent;\n      border-bottom-color: var(--fill-color);\n    }\n  }\n</style>\n\n  <script>\n    async function quickchart(key) {\n      const quickchartButtonEl =\n        document.querySelector('#' + key + ' button');\n      quickchartButtonEl.disabled = true;  // To prevent multiple clicks.\n      quickchartButtonEl.classList.add('colab-df-spinner');\n      try {\n        const charts = await google.colab.kernel.invokeFunction(\n            'suggestCharts', [key], {});\n      } catch (error) {\n        console.error('Error during call to suggestCharts:', error);\n      }\n      quickchartButtonEl.classList.remove('colab-df-spinner');\n      quickchartButtonEl.classList.add('colab-df-quickchart-complete');\n    }\n    (() => {\n      let quickchartButtonEl =\n        document.querySelector('#df-f40e96ea-65c2-4f78-ac05-c3d75024fbf1 button');\n      quickchartButtonEl.style.display =\n        google.colab.kernel.accessAllowed ? 'block' : 'none';\n    })();\n  </script>\n</div>`;\n        parentElement.appendChild(quickchartButtonContainerElement);\n      }\n\n      appendQuickchartButton(table);\n    "
          },
          "metadata": {},
          "execution_count": 17
        }
      ]
    },
    {
      "cell_type": "code",
      "source": [
        "# prompt: GENDER distrubution with label\n",
        "\n",
        "import matplotlib.pyplot as plt\n",
        "\n",
        "gender_counts = df_notes_demographics['GENDER'].value_counts()\n",
        "\n",
        "fig, ax = plt.subplots()\n",
        "ax.bar(gender_counts.index, gender_counts.values)\n",
        "ax.set_xlabel('Gender')\n",
        "ax.set_ylabel('Count')\n",
        "ax.set_title('Gender Distribution')\n",
        "\n",
        "# Add labels to the bars\n",
        "for i, count in enumerate(gender_counts.values):\n",
        "    ax.annotate(str(count), xy=(i, count - 50), ha='center', va='bottom')\n",
        "\n",
        "plt.show()\n"
      ],
      "metadata": {
        "colab": {
          "base_uri": "https://localhost:8080/",
          "height": 528
        },
        "id": "jeONxv-K8Dup",
        "outputId": "7a9f385e-4e8b-4a75-e218-d1821f876a98"
      },
      "execution_count": null,
      "outputs": [
        {
          "output_type": "stream",
          "name": "stderr",
          "text": [
            "/usr/local/lib/python3.10/dist-packages/ipykernel/ipkernel.py:283: DeprecationWarning: `should_run_async` will not call `transform_cell` automatically in the future. Please pass the result to `transformed_cell` argument and any exception that happen during thetransform in `preprocessing_exc_tuple` in IPython 7.17 and above.\n",
            "  and should_run_async(code)\n"
          ]
        },
        {
          "output_type": "display_data",
          "data": {
            "text/plain": [
              "<Figure size 640x480 with 1 Axes>"
            ],
            "image/png": "[encoded data removed]"
          },
          "metadata": {}
        }
      ]
    },
    {
      "source": [
        "# @title AGE\n",
        "\n",
        "from matplotlib import pyplot as plt\n",
        "\n",
        "# Define the age bins and labels\n",
        "age_bins = [0,65,500]\n",
        "age_labels = ['<=65','65+']\n",
        "\n",
        "# Cut the age data into bins\n",
        "df_notes_demographics['AgeGroup'] = pd.cut(df_notes_demographics['AGE'], bins=age_bins, labels=age_labels, right=False)\n",
        "\n",
        "# Plotting the histogram from the binned data\n",
        "age_group_counts = df_notes_demographics['AgeGroup'].value_counts(sort=False)\n",
        "ax = age_group_counts.plot(kind='bar', color='skyblue', title='Age Distribution')\n",
        "\n",
        "# Removing top and right spines\n",
        "ax.spines['top'].set_visible(False)\n",
        "ax.spines['right'].set_visible(False)\n",
        "\n",
        "# Labeling axes\n",
        "plt.xlabel('Age Group')\n",
        "plt.ylabel('Number of Patients')\n",
        "\n",
        "# Add text labels above the bars\n",
        "for i, v in enumerate(age_group_counts):\n",
        "    ax.text(i, v + 3, str(v), ha='center')\n",
        "\n",
        "plt.show()\n"
      ],
      "cell_type": "code",
      "execution_count": null,
      "outputs": [
        {
          "output_type": "stream",
          "name": "stderr",
          "text": [
            "/usr/local/lib/python3.10/dist-packages/ipykernel/ipkernel.py:283: DeprecationWarning: `should_run_async` will not call `transform_cell` automatically in the future. Please pass the result to `transformed_cell` argument and any exception that happen during thetransform in `preprocessing_exc_tuple` in IPython 7.17 and above.\n",
            "  and should_run_async(code)\n"
          ]
        },
        {
          "output_type": "display_data",
          "data": {
            "text/plain": [
              "<Figure size 640x480 with 1 Axes>"
            ],
            "image/png": "[encoded data removed]"
          },
          "metadata": {}
        }
      ],
      "metadata": {
        "colab": {
          "base_uri": "https://localhost:8080/",
          "height": 543
        },
        "id": "a27BVQhEmOi-",
        "outputId": "67c34bad-e6a1-4953-adb3-dc1b9dc0eda3"
      }
    },
    {
      "cell_type": "code",
      "source": [
        "# prompt: plot MARITAL_STATUS on married and non -marriad\n",
        "\n",
        "marital_status_counts = df_notes_demographics['MARITAL_STATUS'].value_counts()\n",
        "\n",
        "married_status = ['MARRIED','LIFE PARTNER' ]\n",
        "non_married_status = ['SINGLE', 'UNKNOWN', 'WIDOWED', 'DIVORCED', 'SEPARATED']\n",
        "\n",
        "df_notes_demographics['MaritalStatus'] = df_notes_demographics['MARITAL_STATUS'].apply(lambda x: 'Married' if x in married_status else 'Non-Married')\n",
        "\n",
        "marital_status_counts = df_notes_demographics['MaritalStatus'].value_counts()\n",
        "\n",
        "fig, ax = plt.subplots()\n",
        "ax.bar(marital_status_counts.index, marital_status_counts.values)\n",
        "ax.set_xlabel('Marital Status')\n",
        "ax.set_ylabel('Count')\n",
        "ax.set_title('Marital Status Distribution')\n",
        "\n",
        "# Add labels to the bars\n",
        "for i, count in enumerate(marital_status_counts.values):\n",
        "    ax.annotate(str(count), xy=(i, count - 50), ha='center', va='bottom')\n",
        "\n",
        "plt.show()\n"
      ],
      "metadata": {
        "colab": {
          "base_uri": "https://localhost:8080/",
          "height": 528
        },
        "id": "xDP7cDmc8WS8",
        "outputId": "12a6c2b0-2b77-4af9-fd8c-0a3e5d745b75"
      },
      "execution_count": null,
      "outputs": [
        {
          "output_type": "stream",
          "name": "stderr",
          "text": [
            "/usr/local/lib/python3.10/dist-packages/ipykernel/ipkernel.py:283: DeprecationWarning: `should_run_async` will not call `transform_cell` automatically in the future. Please pass the result to `transformed_cell` argument and any exception that happen during thetransform in `preprocessing_exc_tuple` in IPython 7.17 and above.\n",
            "  and should_run_async(code)\n"
          ]
        },
        {
          "output_type": "display_data",
          "data": {
            "text/plain": [
              "<Figure size 640x480 with 1 Axes>"
            ],
            "image/png": "[encoded data removed]"
          },
          "metadata": {}
        }
      ]
    },
    {
      "source": [
        "# @title MARITAL_STATUS\n",
        "\n",
        "from matplotlib import pyplot as plt\n",
        "import seaborn as sns\n",
        "\n",
        "# Calculating the counts of each marital status\n",
        "marital_counts = df_notes_demographics['MARITAL_STATUS'].value_counts()\n",
        "\n",
        "# Creating the bar plot with Seaborn's color palette\n",
        "ax = marital_counts.plot(kind='barh', color=sns.color_palette('Dark2'))\n",
        "\n",
        "# Removing the top and right spines\n",
        "ax.spines['top'].set_visible(False)\n",
        "ax.spines['right'].set_visible(False)\n",
        "\n",
        "# Adding the count annotation to each bar\n",
        "for index, value in enumerate(marital_counts):\n",
        "    plt.text(value, index, str(value))\n",
        "\n",
        "# Setting a title and labels for clarity\n",
        "plt.title('Patient Distribution by Marital Status')\n",
        "plt.xlabel('Number of Patients')\n",
        "plt.ylabel('Marital Status')\n",
        "\n",
        "plt.show()\n"
      ],
      "cell_type": "code",
      "execution_count": null,
      "outputs": [
        {
          "output_type": "stream",
          "name": "stderr",
          "text": [
            "/usr/local/lib/python3.10/dist-packages/ipykernel/ipkernel.py:283: DeprecationWarning: `should_run_async` will not call `transform_cell` automatically in the future. Please pass the result to `transformed_cell` argument and any exception that happen during thetransform in `preprocessing_exc_tuple` in IPython 7.17 and above.\n",
            "  and should_run_async(code)\n"
          ]
        },
        {
          "output_type": "display_data",
          "data": {
            "text/plain": [
              "<Figure size 640x480 with 1 Axes>"
            ],
            "image/png": "[encoded data removed]"
          },
          "metadata": {}
        }
      ],
      "metadata": {
        "colab": {
          "base_uri": "https://localhost:8080/",
          "height": 528
        },
        "id": "ky9iJTrumL5W",
        "outputId": "86548f42-ff3f-479a-b089-5a9c03d7b838"
      }
    },
    {
      "cell_type": "code",
      "source": [
        "df_notes_demographics.columns"
      ],
      "metadata": {
        "colab": {
          "base_uri": "https://localhost:8080/"
        },
        "id": "T-Km7X4MvgU6",
        "outputId": "b246ff06-2e38-48da-c7df-155d09536ffe"
      },
      "execution_count": null,
      "outputs": [
        {
          "output_type": "stream",
          "name": "stderr",
          "text": [
            "/usr/local/lib/python3.10/dist-packages/ipykernel/ipkernel.py:283: DeprecationWarning: `should_run_async` will not call `transform_cell` automatically in the future. Please pass the result to `transformed_cell` argument and any exception that happen during thetransform in `preprocessing_exc_tuple` in IPython 7.17 and above.\n",
            "  and should_run_async(code)\n"
          ]
        },
        {
          "output_type": "execute_result",
          "data": {
            "text/plain": [
              "Index(['ROW_ID', 'GENDER', 'ETHNICITY', 'MARITAL_STATUS', 'INSURANCE',\n",
              "       'LANGUAGE', 'AGE', 'AgeGroup'],\n",
              "      dtype='object')"
            ]
          },
          "metadata": {},
          "execution_count": 23
        }
      ]
    },
    {
      "cell_type": "code",
      "source": [
        "ethnicity_counts"
      ],
      "metadata": {
        "colab": {
          "base_uri": "https://localhost:8080/"
        },
        "id": "vwUwr9Ikv-Z6",
        "outputId": "645b8a80-e525-4a2b-fd89-9246dafd347d"
      },
      "execution_count": null,
      "outputs": [
        {
          "output_type": "stream",
          "name": "stderr",
          "text": [
            "/usr/local/lib/python3.10/dist-packages/ipykernel/ipkernel.py:283: DeprecationWarning: `should_run_async` will not call `transform_cell` automatically in the future. Please pass the result to `transformed_cell` argument and any exception that happen during thetransform in `preprocessing_exc_tuple` in IPython 7.17 and above.\n",
            "  and should_run_async(code)\n"
          ]
        },
        {
          "output_type": "execute_result",
          "data": {
            "text/plain": [
              "ETHNICITY\n",
              "WHITE                                         6599\n",
              "BLACK/AFRICAN AMERICAN                        2042\n",
              "HISPANIC OR LATINO                             150\n",
              "OTHER                                          135\n",
              "UNKNOWN/NOT SPECIFIED                          121\n",
              "UNABLE TO OBTAIN                                73\n",
              "PORTUGUESE                                      55\n",
              "PATIENT DECLINED TO ANSWER                      42\n",
              "ASIAN                                           39\n",
              "HISPANIC/LATINO - PUERTO RICAN                  23\n",
              "MULTI RACE ETHNICITY                            19\n",
              "BLACK/AFRICAN                                   15\n",
              "WHITE - OTHER EUROPEAN                          14\n",
              "BLACK/HAITIAN                                   13\n",
              "MIDDLE EASTERN                                  11\n",
              "ASIAN - CHINESE                                 11\n",
              "BLACK/CAPE VERDEAN                               8\n",
              "ASIAN - ASIAN INDIAN                             6\n",
              "WHITE - EASTERN EUROPEAN                         5\n",
              "HISPANIC/LATINO - CENTRAL AMERICAN (OTHER)       5\n",
              "WHITE - RUSSIAN                                  5\n",
              "ASIAN - FILIPINO                                 4\n",
              "ASIAN - KOREAN                                   4\n",
              "AMERICAN INDIAN/ALASKA NATIVE                    3\n",
              "CARIBBEAN ISLAND                                 2\n",
              "HISPANIC/LATINO - HONDURAN                       2\n",
              "ASIAN - VIETNAMESE                               2\n",
              "HISPANIC/LATINO - SALVADORAN                     2\n",
              "HISPANIC/LATINO - CUBAN                          1\n",
              "HISPANIC/LATINO - COLOMBIAN                      1\n",
              "Name: count, dtype: int64"
            ]
          },
          "metadata": {},
          "execution_count": 26
        }
      ]
    },
    {
      "cell_type": "code",
      "source": [
        "ethnicity_mapping = {\n",
        "    'WHITE': 'White',\n",
        "    'BLACK/AFRICAN AMERICAN': 'Black/African American',\n",
        "    'HISPANIC OR LATINO': 'Hispanic/Latino',\n",
        "    'OTHER': 'Other',\n",
        "    'UNKNOWN/NOT SPECIFIED': 'Other',\n",
        "    'UNABLE TO OBTAIN': 'Other',\n",
        "    'PORTUGUESE': 'White',\n",
        "    'PATIENT DECLINED TO ANSWER': 'Other',\n",
        "    'ASIAN': 'Asian',\n",
        "    'HISPANIC/LATINO - PUERTO RICAN': 'Hispanic/Latino',\n",
        "    'MULTI RACE ETHNICITY': 'Other',\n",
        "    'BLACK/AFRICAN': 'Black/African American',\n",
        "    'WHITE - OTHER EUROPEAN': 'White',\n",
        "    'BLACK/HAITIAN': 'Black/African American',\n",
        "    'MIDDLE EASTERN': 'Other',\n",
        "    'ASIAN - CHINESE': 'Asian',\n",
        "    'BLACK/CAPE VERDEAN': 'Black/African American',\n",
        "    'ASIAN - ASIAN INDIAN': 'Asian',\n",
        "    'WHITE - EASTERN EUROPEAN': 'White',\n",
        "    'HISPANIC/LATINO - CENTRAL AMERICAN (OTHER)': 'Hispanic/Latino',\n",
        "    'WHITE - RUSSIAN': 'White',\n",
        "    'ASIAN - FILIPINO': 'Asian',\n",
        "    'ASIAN - KOREAN': 'Asian',\n",
        "    'AMERICAN INDIAN/ALASKA NATIVE': 'Other',\n",
        "    'CARIBBEAN ISLAND': 'Other',\n",
        "    'HISPANIC/LATINO - HONDURAN': 'Hispanic/Latino',\n",
        "    'ASIAN - VIETNAMESE': 'Asian',\n",
        "    'HISPANIC/LATINO - SALVADORAN': 'Hispanic/Latino',\n",
        "    'HISPANIC/LATINO - CUBAN': 'Hispanic/Latino',\n",
        "    'HISPANIC/LATINO - COLOMBIAN': 'Hispanic/Latino'\n",
        "}\n",
        "df_notes_demographics['Broad Ethnicity'] = df_notes_demographics['ETHNICITY'].map(ethnicity_mapping).fillna('Other')\n"
      ],
      "metadata": {
        "colab": {
          "base_uri": "https://localhost:8080/"
        },
        "id": "qQZFGRa6wTP0",
        "outputId": "7f4aea00-ae95-4caf-fe6f-9285eb7e74db"
      },
      "execution_count": null,
      "outputs": [
        {
          "output_type": "stream",
          "name": "stderr",
          "text": [
            "/usr/local/lib/python3.10/dist-packages/ipykernel/ipkernel.py:283: DeprecationWarning: `should_run_async` will not call `transform_cell` automatically in the future. Please pass the result to `transformed_cell` argument and any exception that happen during thetransform in `preprocessing_exc_tuple` in IPython 7.17 and above.\n",
            "  and should_run_async(code)\n"
          ]
        }
      ]
    },
    {
      "cell_type": "code",
      "source": [
        "# prompt: when plot Broad Ethnicity , only plot value white and other label non-white\n",
        "\n",
        "# Group the data by Broad Ethnicity\n",
        "grouped_data = df_notes_demographics.groupby('Broad Ethnicity')['Broad Ethnicity'].count()\n",
        "\n",
        "# Filter out rows with 0 counts\n",
        "filtered_data = grouped_data[grouped_data > 0]\n",
        "\n",
        "# Create a new DataFrame with only \"White\" and \"Other\" categories\n",
        "new_df = pd.DataFrame({'Broad Ethnicity': ['White', 'Other'], 'Count': [filtered_data['White'], filtered_data.drop('White').sum()]})\n",
        "\n",
        "# Plot the bar chart\n",
        "ax = new_df.plot(x='Broad Ethnicity', y='Count', kind='bar', color=['skyblue', 'salmon'])\n",
        "\n",
        "# Remove the top and right spines\n",
        "ax.spines['top'].set_visible(False)\n",
        "ax.spines['right'].set_visible(False)\n",
        "\n",
        "# Add labels and title\n",
        "plt.xlabel('Broad Ethnicity')\n",
        "plt.ylabel('Number of Patients')\n",
        "plt.title('Patient Distribution by Broad Ethnicity (White vs. Non-White)')\n",
        "for p in ax.patches:\n",
        "    ax.annotate(str(p.get_height()), (p.get_x() + p.get_width() / 2., p.get_height()),\n",
        "                ha='center', va='center', xytext=(0, 10), textcoords='offset points')\n",
        "\n",
        "# Show the plot\n",
        "plt.show()\n"
      ],
      "metadata": {
        "colab": {
          "base_uri": "https://localhost:8080/",
          "height": 554
        },
        "id": "cL9hFnlP7R90",
        "outputId": "4e6f9ad0-a4be-4bf2-a9dd-df14eb09c3ae"
      },
      "execution_count": null,
      "outputs": [
        {
          "output_type": "stream",
          "name": "stderr",
          "text": [
            "/usr/local/lib/python3.10/dist-packages/ipykernel/ipkernel.py:283: DeprecationWarning: `should_run_async` will not call `transform_cell` automatically in the future. Please pass the result to `transformed_cell` argument and any exception that happen during thetransform in `preprocessing_exc_tuple` in IPython 7.17 and above.\n",
            "  and should_run_async(code)\n"
          ]
        },
        {
          "output_type": "display_data",
          "data": {
            "text/plain": [
              "<Figure size 640x480 with 1 Axes>"
            ],
            "image/png": "[encoded data removed]"
          },
          "metadata": {}
        }
      ]
    },
    {
      "cell_type": "code",
      "source": [
        "from matplotlib import pyplot as plt\n",
        "import seaborn as sns\n",
        "\n",
        "# Count the number of patients in each broad ethnicity group\n",
        "ethnicity_counts = df_notes_demographics['Broad Ethnicity'].value_counts()\n",
        "\n",
        "# Create the bar plot\n",
        "ax = ethnicity_counts.plot(kind='barh', color=sns.color_palette('Dark2'))\n",
        "\n",
        "# Remove the top and right spines\n",
        "ax.spines['top'].set_visible(False)\n",
        "ax.spines['right'].set_visible(False)\n",
        "\n",
        "# Add annotations for the count of each bar\n",
        "for index, value in enumerate(ethnicity_counts):\n",
        "    plt.text(value, index, str(value))\n",
        "\n",
        "plt.title('Patient Distribution by Broad Ethnicity')\n",
        "plt.xlabel('Number of Patients')\n",
        "plt.ylabel('Ethnicity')\n",
        "plt.show()\n",
        "\n",
        "# white non white\n",
        "# black non non black\n"
      ],
      "metadata": {
        "colab": {
          "base_uri": "https://localhost:8080/",
          "height": 528
        },
        "id": "SLfkUeijvpjA",
        "outputId": "469333da-2e75-4caf-a883-a669b68ce8a8"
      },
      "execution_count": null,
      "outputs": [
        {
          "output_type": "stream",
          "name": "stderr",
          "text": [
            "/usr/local/lib/python3.10/dist-packages/ipykernel/ipkernel.py:283: DeprecationWarning: `should_run_async` will not call `transform_cell` automatically in the future. Please pass the result to `transformed_cell` argument and any exception that happen during thetransform in `preprocessing_exc_tuple` in IPython 7.17 and above.\n",
            "  and should_run_async(code)\n"
          ]
        },
        {
          "output_type": "display_data",
          "data": {
            "text/plain": [
              "<Figure size 640x480 with 1 Axes>"
            ],
            "image/png": "[encoded data removed]"
          },
          "metadata": {}
        }
      ]
    },
    {
      "cell_type": "code",
      "source": [
        "# prompt: when plot INSURANCE , only plot value private and other lable non-private\n",
        "\n",
        "insurance_counts = df_notes_demographics['INSURANCE'].value_counts()\n",
        "insurance_counts_private = insurance_counts['Private']\n",
        "insurance_counts_others = sum(insurance_counts[insurance_counts.index != 'Private'])\n",
        "\n",
        "df_notes_demographics['INSURANCE'] = df_notes_demographics['INSURANCE'].apply(lambda x: 'Private' if x == 'Private' else 'Other')\n",
        "ax = df_notes_demographics['INSURANCE'].value_counts(sort=False).plot(kind='bar', color=['skyblue', 'salmon'])\n",
        "\n",
        "# Removing top and right spines\n",
        "ax.spines['top'].set_visible(False)\n",
        "ax.spines['right'].set_visible(False)\n",
        "\n",
        "# Labeling axes\n",
        "plt.xlabel('Insurance Type')\n",
        "plt.ylabel('Number of Patients')\n",
        "\n",
        "for i, v in enumerate(df_notes_demographics['INSURANCE'].value_counts(sort=False)):\n",
        "    ax.text(i, v + 3, str(v), ha='center')\n",
        "\n",
        "plt.show()\n"
      ],
      "metadata": {
        "colab": {
          "base_uri": "https://localhost:8080/",
          "height": 540
        },
        "id": "MvxYbSsT61tI",
        "outputId": "95ea36c4-ad87-40bb-d4a0-ee8870f9ad7b"
      },
      "execution_count": null,
      "outputs": [
        {
          "output_type": "stream",
          "name": "stderr",
          "text": [
            "/usr/local/lib/python3.10/dist-packages/ipykernel/ipkernel.py:283: DeprecationWarning: `should_run_async` will not call `transform_cell` automatically in the future. Please pass the result to `transformed_cell` argument and any exception that happen during thetransform in `preprocessing_exc_tuple` in IPython 7.17 and above.\n",
            "  and should_run_async(code)\n"
          ]
        },
        {
          "output_type": "display_data",
          "data": {
            "text/plain": [
              "<Figure size 640x480 with 1 Axes>"
            ],
            "image/png": "[encoded data removed]"
          },
          "metadata": {}
        }
      ]
    },
    {
      "cell_type": "code",
      "source": [
        "\n",
        "# Calculate the counts of each insurance type\n",
        "insurance_counts = df_notes_demographics['INSURANCE'].value_counts()\n",
        "\n",
        "# Create the bar plot with Seaborn's color palette\n",
        "ax = insurance_counts.plot(kind='barh', color=sns.color_palette('Dark2'))\n",
        "\n",
        "# Remove the top and right spines\n",
        "ax.spines['top'].set_visible(False)\n",
        "ax.spines['right'].set_visible(False)\n",
        "\n",
        "# Add the count annotation to each bar\n",
        "for index, value in enumerate(insurance_counts):\n",
        "    plt.text(value, index, str(value))\n",
        "\n",
        "# Set a title and labels for clarity\n",
        "plt.title('Patient Distribution by Insurance')\n",
        "plt.xlabel('Number of Patients')\n",
        "plt.ylabel('Insurance Type')\n",
        "\n",
        "plt.show()\n",
        "\n",
        "# private\n",
        "# other\n"
      ],
      "metadata": {
        "colab": {
          "base_uri": "https://localhost:8080/",
          "height": 528
        },
        "id": "_5MhCZG9viUT",
        "outputId": "3c0802b9-d007-4399-bd20-4b6685fc62e3"
      },
      "execution_count": null,
      "outputs": [
        {
          "output_type": "stream",
          "name": "stderr",
          "text": [
            "/usr/local/lib/python3.10/dist-packages/ipykernel/ipkernel.py:283: DeprecationWarning: `should_run_async` will not call `transform_cell` automatically in the future. Please pass the result to `transformed_cell` argument and any exception that happen during thetransform in `preprocessing_exc_tuple` in IPython 7.17 and above.\n",
            "  and should_run_async(code)\n"
          ]
        },
        {
          "output_type": "display_data",
          "data": {
            "text/plain": [
              "<Figure size 640x480 with 1 Axes>"
            ],
            "image/png": "[encoded data removed]"
          },
          "metadata": {}
        }
      ]
    },
    {
      "cell_type": "code",
      "source": [
        "insurance_counts = df_notes_demographics['LANGUAGE'].value_counts()\n",
        "insurance_counts_private = insurance_counts['ENGL']\n",
        "insurance_counts_others = sum(insurance_counts[insurance_counts.index != 'ENGL'])\n",
        "\n",
        "df_notes_demographics['LANGUAGE'] = df_notes_demographics['LANGUAGE'].apply(lambda x: 'ENGL' if x == 'ENGL' else 'Other')\n",
        "ax = df_notes_demographics['LANGUAGE'].value_counts(sort=False).plot(kind='bar', color=['skyblue', 'salmon'])\n",
        "\n",
        "# Removing top and right spines\n",
        "ax.spines['top'].set_visible(False)\n",
        "ax.spines['right'].set_visible(False)\n",
        "\n",
        "# Labeling axes\n",
        "plt.xlabel('LANGUAGE Type')\n",
        "plt.ylabel('Number of Patients')\n",
        "\n",
        "for i, v in enumerate(df_notes_demographics['LANGUAGE'].value_counts(sort=False)):\n",
        "    ax.text(i, v + 3, str(v), ha='center')\n",
        "\n",
        "plt.show()"
      ],
      "metadata": {
        "colab": {
          "base_uri": "https://localhost:8080/",
          "height": 531
        },
        "id": "GouH6CDxDCLZ",
        "outputId": "bb894e58-7bf6-4e83-d06a-2fd3c650d8a7"
      },
      "execution_count": null,
      "outputs": [
        {
          "output_type": "stream",
          "name": "stderr",
          "text": [
            "/usr/local/lib/python3.10/dist-packages/ipykernel/ipkernel.py:283: DeprecationWarning: `should_run_async` will not call `transform_cell` automatically in the future. Please pass the result to `transformed_cell` argument and any exception that happen during thetransform in `preprocessing_exc_tuple` in IPython 7.17 and above.\n",
            "  and should_run_async(code)\n"
          ]
        },
        {
          "output_type": "display_data",
          "data": {
            "text/plain": [
              "<Figure size 640x480 with 1 Axes>"
            ],
            "image/png": "[encoded data removed]"
          },
          "metadata": {}
        }
      ]
    },
    {
      "cell_type": "code",
      "source": [
        "df_notes_demographics['LANGUAGE'].value_counts()"
      ],
      "metadata": {
        "colab": {
          "base_uri": "https://localhost:8080/"
        },
        "id": "lLYI7N3c3Msu",
        "outputId": "0ec4cbc9-bdc5-43e7-d3d1-68b9332f2b61"
      },
      "execution_count": null,
      "outputs": [
        {
          "output_type": "stream",
          "name": "stderr",
          "text": [
            "/usr/local/lib/python3.10/dist-packages/ipykernel/ipkernel.py:283: DeprecationWarning: `should_run_async` will not call `transform_cell` automatically in the future. Please pass the result to `transformed_cell` argument and any exception that happen during thetransform in `preprocessing_exc_tuple` in IPython 7.17 and above.\n",
            "  and should_run_async(code)\n"
          ]
        },
        {
          "output_type": "execute_result",
          "data": {
            "text/plain": [
              "LANGUAGE\n",
              "ENGL    5082\n",
              "SPAN     192\n",
              "RUSS     140\n",
              "PTUN      83\n",
              "CANT      70\n",
              "PORT      57\n",
              "CAPE      46\n",
              "HAIT      24\n",
              "ITAL      20\n",
              "GREE      14\n",
              "VIET      14\n",
              "MAND      13\n",
              "AMER       9\n",
              "CAMB       7\n",
              "POLI       5\n",
              "PERS       4\n",
              "THAI       3\n",
              "KORE       3\n",
              "*YID       3\n",
              "URDU       3\n",
              "FREN       3\n",
              "ALBA       2\n",
              "HIND       2\n",
              "*BUL       2\n",
              "ARAB       2\n",
              "*MAN       2\n",
              "*BEN       1\n",
              "SOMA       1\n",
              "*FIL       1\n",
              "JAPA       1\n",
              "*TAM       1\n",
              "*CHI       1\n",
              "*GUJ       1\n",
              "*AMH       1\n",
              "*URD       1\n",
              "*LIT       1\n",
              "LAOT       1\n",
              "**TO       1\n",
              "Name: count, dtype: int64"
            ]
          },
          "metadata": {},
          "execution_count": 41
        }
      ]
    },
    {
      "cell_type": "code",
      "source": [
        "# prompt: viz show LANGUAGE column\n",
        "\n",
        "language_counts = df_notes_demographics['LANGUAGE'].value_counts()\n",
        "\n",
        "# Create the bar plot with Seaborn's color palette\n",
        "ax = language_counts.plot(kind='barh', color=sns.color_palette('Dark2'))\n",
        "\n",
        "# Remove the top and right spines\n",
        "ax.spines['top'].set_visible(False)\n",
        "ax.spines['right'].set_visible(False)\n",
        "\n",
        "# Add the count annotation to each bar\n",
        "for index, value in enumerate(language_counts):\n",
        "    plt.text(value, index, str(value))\n",
        "\n",
        "# Set a title and labels for clarity\n",
        "plt.title('Patient Distribution by Language')\n",
        "plt.xlabel('Number of Patients')\n",
        "plt.ylabel('Language')\n",
        "\n",
        "plt.show()\n"
      ],
      "metadata": {
        "colab": {
          "base_uri": "https://localhost:8080/",
          "height": 528
        },
        "id": "tzH8qMAuw6OH",
        "outputId": "3b3c7997-648b-471a-b7db-32665106aec4"
      },
      "execution_count": null,
      "outputs": [
        {
          "output_type": "stream",
          "name": "stderr",
          "text": [
            "/usr/local/lib/python3.10/dist-packages/ipykernel/ipkernel.py:283: DeprecationWarning: `should_run_async` will not call `transform_cell` automatically in the future. Please pass the result to `transformed_cell` argument and any exception that happen during thetransform in `preprocessing_exc_tuple` in IPython 7.17 and above.\n",
            "  and should_run_async(code)\n"
          ]
        },
        {
          "output_type": "display_data",
          "data": {
            "text/plain": [
              "<Figure size 640x480 with 1 Axes>"
            ],
            "image/png": "[encoded data removed]"
          },
          "metadata": {}
        }
      ]
    },
    {
      "cell_type": "code",
      "source": [
        "from google.colab import drive\n",
        "drive.mount('/content/drive')\n",
        "\n",
        "# Save the DataFrame to a CSV file in Google Drive\n",
        "df_notes_demographics.to_csv('/content/drive/My Drive/data/df_notes_demographics.csv')"
      ],
      "metadata": {
        "colab": {
          "base_uri": "https://localhost:8080/"
        },
        "id": "k0lhcXK31U0F",
        "outputId": "542808cf-6f0a-4a12-f807-4fbe581010b2"
      },
      "execution_count": null,
      "outputs": [
        {
          "output_type": "stream",
          "name": "stderr",
          "text": [
            "/usr/local/lib/python3.10/dist-packages/ipykernel/ipkernel.py:283: DeprecationWarning: `should_run_async` will not call `transform_cell` automatically in the future. Please pass the result to `transformed_cell` argument and any exception that happen during thetransform in `preprocessing_exc_tuple` in IPython 7.17 and above.\n",
            "  and should_run_async(code)\n"
          ]
        },
        {
          "output_type": "stream",
          "name": "stdout",
          "text": [
            "Drive already mounted at /content/drive; to attempt to forcibly remount, call drive.mount(\"/content/drive\", force_remount=True).\n"
          ]
        }
      ]
    },
    {
      "cell_type": "code",
      "source": [],
      "metadata": {
        "id": "wkK-u-691dGE"
      },
      "execution_count": null,
      "outputs": []
    },
    {
      "cell_type": "markdown",
      "source": [
        "training notes"
      ],
      "metadata": {
        "id": "LIaH9Ydbvfso"
      }
    },
    {
      "cell_type": "code",
      "source": [
        "from google.cloud import bigquery\n",
        "\n",
        "# Create a BigQuery client\n",
        "client = bigquery.Client(project='dukedatathon2024')\n",
        "\n",
        "# Assume patient_ids is already defined:\n",
        "# patient_ids = df['row_id'].tolist()\n",
        "\n",
        "# Configure query with parameters for secure and efficient querying\n",
        "job_config = bigquery.QueryJobConfig(\n",
        "    query_parameters=[\n",
        "        bigquery.ArrayQueryParameter(\"row_ids\", \"INT64\", patient_ids)\n",
        "    ]\n",
        ")\n",
        "\n",
        "# Execute the query and convert to DataFrame\n",
        "query_job = client.query(query, job_config=job_config)\n",
        "df_notes_demographics = query_job.to_dataframe()\n",
        "\n",
        "# Display the DataFrame to see the results\n",
        "print(df_notes_demographics)\n"
      ],
      "metadata": {
        "id": "ewsLJwR3hF8E"
      },
      "execution_count": null,
      "outputs": []
    },
    {
      "cell_type": "code",
      "source": [
        "from google.cloud import bigquery\n",
        "\n",
        "client = bigquery.Client(project='dukedatathon2024')\n",
        "\n",
        "query = \"\"\"\n",
        "SELECT ROW_ID, TEXT\n",
        "FROM `physionet-data.mimiciii_notes.noteevents`\n",
        "WHERE ROW_ID IN UNNEST(@ROW_ID)\n",
        "\"\"\"\n",
        "\n",
        "job_config = bigquery.QueryJobConfig(\n",
        "    query_parameters=[\n",
        "        bigquery.ArrayQueryParameter(\"ROW_ID\", \"INT64\", patient_ids)\n",
        "    ]\n",
        ")\n",
        "\n",
        "query_job = client.query(query, job_config=job_config)\n",
        "df_notes = query_job.to_dataframe()\n",
        "\n",
        "# df_notes.head()\n",
        "# this is our training data\n",
        "len(df_notes)"
      ],
      "metadata": {
        "id": "EUqrsNkecSYT",
        "outputId": "7376539b-cea2-43c2-a768-9a306ac4521f",
        "colab": {
          "base_uri": "https://localhost:8080/"
        }
      },
      "execution_count": 28,
      "outputs": [
        {
          "output_type": "stream",
          "name": "stderr",
          "text": [
            "/usr/local/lib/python3.10/dist-packages/ipykernel/ipkernel.py:283: DeprecationWarning: `should_run_async` will not call `transform_cell` automatically in the future. Please pass the result to `transformed_cell` argument and any exception that happen during thetransform in `preprocessing_exc_tuple` in IPython 7.17 and above.\n",
            "  and should_run_async(code)\n"
          ]
        },
        {
          "output_type": "execute_result",
          "data": {
            "text/plain": [
              "36775"
            ]
          },
          "metadata": {},
          "execution_count": 28
        }
      ]
    },
    {
      "cell_type": "code",
      "source": [
        "# prompt: connect google drive and save df_notes in google drive\n",
        "\n",
        "from google.colab import drive\n",
        "drive.mount('/content/drive')\n",
        "\n",
        "# Save the DataFrame to a CSV file in Google Drive\n",
        "df_notes.to_csv('/content/drive/My Drive/df_test.csv')\n"
      ],
      "metadata": {
        "colab": {
          "base_uri": "https://localhost:8080/"
        },
        "id": "DLQmdViqk4_7",
        "outputId": "ce95d514-830e-4085-b399-5c570fa01e25"
      },
      "execution_count": 29,
      "outputs": [
        {
          "output_type": "stream",
          "name": "stderr",
          "text": [
            "/usr/local/lib/python3.10/dist-packages/ipykernel/ipkernel.py:283: DeprecationWarning: `should_run_async` will not call `transform_cell` automatically in the future. Please pass the result to `transformed_cell` argument and any exception that happen during thetransform in `preprocessing_exc_tuple` in IPython 7.17 and above.\n",
            "  and should_run_async(code)\n"
          ]
        },
        {
          "output_type": "stream",
          "name": "stdout",
          "text": [
            "Mounted at /content/drive\n"
          ]
        }
      ]
    },
    {
      "cell_type": "code",
      "source": [
        "%%bigquery --project dukedatathon2024\n",
        "SELECT *\n",
        "FROM `physionet-data.mimiciii_clinical.patients`\n",
        "LIMIT 1\n"
      ],
      "metadata": {
        "id": "LyJzYVyKafC5",
        "outputId": "4aab6fed-68c4-445b-8c09-620e3a1f6088",
        "colab": {
          "base_uri": "https://localhost:8080/",
          "height": 207,
          "referenced_widgets": [
            "f551da75519a4022848b8e333d21d06b",
            "46d0b6af59284293946c430c5b7db153",
            "590463f478be404996b1beca8f8c0109",
            "00d4c9e254d44c9cb688068edf01c86c",
            "6a4cf57268964a55899b669763b6105d",
            "4bd699e6042f44f38106cb45733d923a",
            "bb7cc0ad4b7e4530b17ee8e765d06f31",
            "d8828694491b4286999a9291684d3f25",
            "76d7cf298b2b4b32a11f2e96ed31ba3f",
            "254f35233e3f45c1a90f6109ff6cda3f",
            "2b645c18cfb648dea3765c73e45aa437",
            "fd9e38133c984cbd9138c51fa2029a03",
            "2710e4d97ba047e885f7f9683f6b9db8",
            "d66b1eac54754e2589e46ec7950da3d9",
            "8ec803f52936430a87048f93a21c3120",
            "190f7b006d8b4441bd26a890a27d7f1b",
            "d84b4f52e585487899f6f1db06692722",
            "8267348534dd45c79758e83e517a5aa5",
            "75970bed6f3f4925bbf829ae9a0386df",
            "0844e4f419fb470bbcb7649729a758fd",
            "b1008b4a9e2f43699726546637b763e1",
            "751e9f0e64454e14b3f26de20f42c905"
          ]
        }
      },
      "execution_count": null,
      "outputs": [
        {
          "output_type": "display_data",
          "data": {
            "text/plain": [
              "Query is running:   0%|          |"
            ],
            "application/vnd.jupyter.widget-view+json": {
              "version_major": 2,
              "version_minor": 0,
              "model_id": "f551da75519a4022848b8e333d21d06b"
            }
          },
          "metadata": {}
        },
        {
          "output_type": "display_data",
          "data": {
            "text/plain": [
              "Downloading:   0%|          |"
            ],
            "application/vnd.jupyter.widget-view+json": {
              "version_major": 2,
              "version_minor": 0,
              "model_id": "fd9e38133c984cbd9138c51fa2029a03"
            }
          },
          "metadata": {}
        },
        {
          "output_type": "execute_result",
          "data": {
            "text/plain": [
              "   ROW_ID  SUBJECT_ID GENDER        DOB        DOD   DOD_HOSP    DOD_SSN  \\\n",
              "0      49          56      F 1804-01-02 2104-01-08 2104-01-08 2104-01-08   \n",
              "\n",
              "   EXPIRE_FLAG  \n",
              "0            1  "
            ],
            "text/html": [
              "\n",
              "  <div id=\"df-b3e8808c-017f-47af-ab7b-dd9fda8c39b1\" class=\"colab-df-container\">\n",
              "    <div>\n",
              "<style scoped>\n",
              "    .dataframe tbody tr th:only-of-type {\n",
              "        vertical-align: middle;\n",
              "    }\n",
              "\n",
              "    .dataframe tbody tr th {\n",
              "        vertical-align: top;\n",
              "    }\n",
              "\n",
              "    .dataframe thead th {\n",
              "        text-align: right;\n",
              "    }\n",
              "</style>\n",
              "<table border=\"1\" class=\"dataframe\">\n",
              "  <thead>\n",
              "    <tr style=\"text-align: right;\">\n",
              "      <th></th>\n",
              "      <th>ROW_ID</th>\n",
              "      <th>SUBJECT_ID</th>\n",
              "      <th>GENDER</th>\n",
              "      <th>DOB</th>\n",
              "      <th>DOD</th>\n",
              "      <th>DOD_HOSP</th>\n",
              "      <th>DOD_SSN</th>\n",
              "      <th>EXPIRE_FLAG</th>\n",
              "    </tr>\n",
              "  </thead>\n",
              "  <tbody>\n",
              "    <tr>\n",
              "      <th>0</th>\n",
              "      <td>49</td>\n",
              "      <td>56</td>\n",
              "      <td>F</td>\n",
              "      <td>1804-01-02</td>\n",
              "      <td>2104-01-08</td>\n",
              "      <td>2104-01-08</td>\n",
              "      <td>2104-01-08</td>\n",
              "      <td>1</td>\n",
              "    </tr>\n",
              "  </tbody>\n",
              "</table>\n",
              "</div>\n",
              "    <div class=\"colab-df-buttons\">\n",
              "\n",
              "  <div class=\"colab-df-container\">\n",
              "    <button class=\"colab-df-convert\" onclick=\"convertToInteractive('df-b3e8808c-017f-47af-ab7b-dd9fda8c39b1')\"\n",
              "            title=\"Convert this dataframe to an interactive table.\"\n",
              "            style=\"display:none;\">\n",
              "\n",
              "  <svg xmlns=\"http://www.w3.org/2000/svg\" height=\"24px\" viewBox=\"0 -960 960 960\">\n",
              "    <path d=\"M120-120v-720h720v720H120Zm60-500h600v-160H180v160Zm220 220h160v-160H400v160Zm0 220h160v-160H400v160ZM180-400h160v-160H180v160Zm440 0h160v-160H620v160ZM180-180h160v-160H180v160Zm440 0h160v-160H620v160Z\"/>\n",
              "  </svg>\n",
              "    </button>\n",
              "\n",
              "  <style>\n",
              "    .colab-df-container {\n",
              "      display:flex;\n",
              "      gap: 12px;\n",
              "    }\n",
              "\n",
              "    .colab-df-convert {\n",
              "      background-color: #E8F0FE;\n",
              "      border: none;\n",
              "      border-radius: 50%;\n",
              "      cursor: pointer;\n",
              "      display: none;\n",
              "      fill: #1967D2;\n",
              "      height: 32px;\n",
              "      padding: 0 0 0 0;\n",
              "      width: 32px;\n",
              "    }\n",
              "\n",
              "    .colab-df-convert:hover {\n",
              "      background-color: #E2EBFA;\n",
              "      box-shadow: 0px 1px 2px rgba(60, 64, 67, 0.3), 0px 1px 3px 1px rgba(60, 64, 67, 0.15);\n",
              "      fill: #174EA6;\n",
              "    }\n",
              "\n",
              "    .colab-df-buttons div {\n",
              "      margin-bottom: 4px;\n",
              "    }\n",
              "\n",
              "    [theme=dark] .colab-df-convert {\n",
              "      background-color: #3B4455;\n",
              "      fill: #D2E3FC;\n",
              "    }\n",
              "\n",
              "    [theme=dark] .colab-df-convert:hover {\n",
              "      background-color: #434B5C;\n",
              "      box-shadow: 0px 1px 3px 1px rgba(0, 0, 0, 0.15);\n",
              "      filter: drop-shadow(0px 1px 2px rgba(0, 0, 0, 0.3));\n",
              "      fill: #FFFFFF;\n",
              "    }\n",
              "  </style>\n",
              "\n",
              "    <script>\n",
              "      const buttonEl =\n",
              "        document.querySelector('#df-b3e8808c-017f-47af-ab7b-dd9fda8c39b1 button.colab-df-convert');\n",
              "      buttonEl.style.display =\n",
              "        google.colab.kernel.accessAllowed ? 'block' : 'none';\n",
              "\n",
              "      async function convertToInteractive(key) {\n",
              "        const element = document.querySelector('#df-b3e8808c-017f-47af-ab7b-dd9fda8c39b1');\n",
              "        const dataTable =\n",
              "          await google.colab.kernel.invokeFunction('convertToInteractive',\n",
              "                                                    [key], {});\n",
              "        if (!dataTable) return;\n",
              "\n",
              "        const docLinkHtml = 'Like what you see? Visit the ' +\n",
              "          '<a target=\"_blank\" href=https://colab.research.google.com/notebooks/data_table.ipynb>data table notebook</a>'\n",
              "          + ' to learn more about interactive tables.';\n",
              "        element.innerHTML = '';\n",
              "        dataTable['output_type'] = 'display_data';\n",
              "        await google.colab.output.renderOutput(dataTable, element);\n",
              "        const docLink = document.createElement('div');\n",
              "        docLink.innerHTML = docLinkHtml;\n",
              "        element.appendChild(docLink);\n",
              "      }\n",
              "    </script>\n",
              "  </div>\n",
              "\n",
              "\n",
              "    </div>\n",
              "  </div>\n"
            ],
            "application/vnd.google.colaboratory.intrinsic+json": {
              "type": "dataframe",
              "summary": "{\n  \"name\": \"get_ipython()\",\n  \"rows\": 1,\n  \"fields\": [\n    {\n      \"column\": \"ROW_ID\",\n      \"properties\": {\n        \"dtype\": \"Int64\",\n        \"num_unique_values\": 1,\n        \"samples\": [\n          49\n        ],\n        \"semantic_type\": \"\",\n        \"description\": \"\"\n      }\n    },\n    {\n      \"column\": \"SUBJECT_ID\",\n      \"properties\": {\n        \"dtype\": \"Int64\",\n        \"num_unique_values\": 1,\n        \"samples\": [\n          56\n        ],\n        \"semantic_type\": \"\",\n        \"description\": \"\"\n      }\n    },\n    {\n      \"column\": \"GENDER\",\n      \"properties\": {\n        \"dtype\": \"string\",\n        \"num_unique_values\": 1,\n        \"samples\": [\n          \"F\"\n        ],\n        \"semantic_type\": \"\",\n        \"description\": \"\"\n      }\n    },\n    {\n      \"column\": \"DOB\",\n      \"properties\": {\n        \"dtype\": \"date\",\n        \"min\": \"1804-01-02 00:00:00\",\n        \"max\": \"1804-01-02 00:00:00\",\n        \"num_unique_values\": 1,\n        \"samples\": [\n          \"1804-01-02 00:00:00\"\n        ],\n        \"semantic_type\": \"\",\n        \"description\": \"\"\n      }\n    },\n    {\n      \"column\": \"DOD\",\n      \"properties\": {\n        \"dtype\": \"date\",\n        \"min\": \"2104-01-08 00:00:00\",\n        \"max\": \"2104-01-08 00:00:00\",\n        \"num_unique_values\": 1,\n        \"samples\": [\n          \"2104-01-08 00:00:00\"\n        ],\n        \"semantic_type\": \"\",\n        \"description\": \"\"\n      }\n    },\n    {\n      \"column\": \"DOD_HOSP\",\n      \"properties\": {\n        \"dtype\": \"date\",\n        \"min\": \"2104-01-08 00:00:00\",\n        \"max\": \"2104-01-08 00:00:00\",\n        \"num_unique_values\": 1,\n        \"samples\": [\n          \"2104-01-08 00:00:00\"\n        ],\n        \"semantic_type\": \"\",\n        \"description\": \"\"\n      }\n    },\n    {\n      \"column\": \"DOD_SSN\",\n      \"properties\": {\n        \"dtype\": \"date\",\n        \"min\": \"2104-01-08 00:00:00\",\n        \"max\": \"2104-01-08 00:00:00\",\n        \"num_unique_values\": 1,\n        \"samples\": [\n          \"2104-01-08 00:00:00\"\n        ],\n        \"semantic_type\": \"\",\n        \"description\": \"\"\n      }\n    },\n    {\n      \"column\": \"EXPIRE_FLAG\",\n      \"properties\": {\n        \"dtype\": \"Int64\",\n        \"num_unique_values\": 1,\n        \"samples\": [\n          1\n        ],\n        \"semantic_type\": \"\",\n        \"description\": \"\"\n      }\n    }\n  ]\n}"
            },
            "application/vnd.google.colaboratory.module+javascript": "\n      import \"https://ssl.gstatic.com/colaboratory/data_table/881c4a0d49046431/data_table.js\";\n\n      const table = window.createDataTable({\n        data: [[{\n            'v': 0,\n            'f': \"0\",\n        },\n{\n            'v': 49,\n            'f': \"49\",\n        },\n{\n            'v': 56,\n            'f': \"56\",\n        },\n\"F\",\n\"1804-01-02 00:00:00\",\n\"2104-01-08 00:00:00\",\n\"2104-01-08 00:00:00\",\n\"2104-01-08 00:00:00\",\n{\n            'v': 1,\n            'f': \"1\",\n        }]],\n        columns: [[\"number\", \"index\"], [\"number\", \"ROW_ID\"], [\"number\", \"SUBJECT_ID\"], [\"string\", \"GENDER\"], [\"string\", \"DOB\"], [\"string\", \"DOD\"], [\"string\", \"DOD_HOSP\"], [\"string\", \"DOD_SSN\"], [\"number\", \"EXPIRE_FLAG\"]],\n        columnOptions: [{\"width\": \"1px\", \"className\": \"index_column\"}],\n        rowsPerPage: 25,\n        helpUrl: \"https://colab.research.google.com/notebooks/data_table.ipynb\",\n        suppressOutputScrolling: true,\n        minimumWidth: undefined,\n      });\n\n      function appendQuickchartButton(parentElement) {\n        let quickchartButtonContainerElement = document.createElement('div');\n        quickchartButtonContainerElement.innerHTML = `\n<div id=\"df-f903d474-53f6-4305-be23-6b0c81763366\">\n  <button class=\"colab-df-quickchart\" onclick=\"quickchart('df-f903d474-53f6-4305-be23-6b0c81763366')\"\n            title=\"Suggest charts\"\n            style=\"display:none;\">\n    \n<svg xmlns=\"http://www.w3.org/2000/svg\" height=\"24px\"viewBox=\"0 0 24 24\"\n     width=\"24px\">\n    <g>\n        <path d=\"M19 3H5c-1.1 0-2 .9-2 2v14c0 1.1.9 2 2 2h14c1.1 0 2-.9 2-2V5c0-1.1-.9-2-2-2zM9 17H7v-7h2v7zm4 0h-2V7h2v10zm4 0h-2v-4h2v4z\"/>\n    </g>\n</svg>\n  </button>\n  \n<style>\n  .colab-df-quickchart {\n      --bg-color: #E8F0FE;\n      --fill-color: #1967D2;\n      --hover-bg-color: #E2EBFA;\n      --hover-fill-color: #174EA6;\n      --disabled-fill-color: #AAA;\n      --disabled-bg-color: #DDD;\n  }\n\n  [theme=dark] .colab-df-quickchart {\n      --bg-color: #3B4455;\n      --fill-color: #D2E3FC;\n      --hover-bg-color: #434B5C;\n      --hover-fill-color: #FFFFFF;\n      --disabled-bg-color: #3B4455;\n      --disabled-fill-color: #666;\n  }\n\n  .colab-df-quickchart {\n    background-color: var(--bg-color);\n    border: none;\n    border-radius: 50%;\n    cursor: pointer;\n    display: none;\n    fill: var(--fill-color);\n    height: 32px;\n    padding: 0;\n    width: 32px;\n  }\n\n  .colab-df-quickchart:hover {\n    background-color: var(--hover-bg-color);\n    box-shadow: 0 1px 2px rgba(60, 64, 67, 0.3), 0 1px 3px 1px rgba(60, 64, 67, 0.15);\n    fill: var(--button-hover-fill-color);\n  }\n\n  .colab-df-quickchart-complete:disabled,\n  .colab-df-quickchart-complete:disabled:hover {\n    background-color: var(--disabled-bg-color);\n    fill: var(--disabled-fill-color);\n    box-shadow: none;\n  }\n\n  .colab-df-spinner {\n    border: 2px solid var(--fill-color);\n    border-color: transparent;\n    border-bottom-color: var(--fill-color);\n    animation:\n      spin 1s steps(1) infinite;\n  }\n\n  @keyframes spin {\n    0% {\n      border-color: transparent;\n      border-bottom-color: var(--fill-color);\n      border-left-color: var(--fill-color);\n    }\n    20% {\n      border-color: transparent;\n      border-left-color: var(--fill-color);\n      border-top-color: var(--fill-color);\n    }\n    30% {\n      border-color: transparent;\n      border-left-color: var(--fill-color);\n      border-top-color: var(--fill-color);\n      border-right-color: var(--fill-color);\n    }\n    40% {\n      border-color: transparent;\n      border-right-color: var(--fill-color);\n      border-top-color: var(--fill-color);\n    }\n    60% {\n      border-color: transparent;\n      border-right-color: var(--fill-color);\n    }\n    80% {\n      border-color: transparent;\n      border-right-color: var(--fill-color);\n      border-bottom-color: var(--fill-color);\n    }\n    90% {\n      border-color: transparent;\n      border-bottom-color: var(--fill-color);\n    }\n  }\n</style>\n\n  <script>\n    async function quickchart(key) {\n      const quickchartButtonEl =\n        document.querySelector('#' + key + ' button');\n      quickchartButtonEl.disabled = true;  // To prevent multiple clicks.\n      quickchartButtonEl.classList.add('colab-df-spinner');\n      try {\n        const charts = await google.colab.kernel.invokeFunction(\n            'suggestCharts', [key], {});\n      } catch (error) {\n        console.error('Error during call to suggestCharts:', error);\n      }\n      quickchartButtonEl.classList.remove('colab-df-spinner');\n      quickchartButtonEl.classList.add('colab-df-quickchart-complete');\n    }\n    (() => {\n      let quickchartButtonEl =\n        document.querySelector('#df-f903d474-53f6-4305-be23-6b0c81763366 button');\n      quickchartButtonEl.style.display =\n        google.colab.kernel.accessAllowed ? 'block' : 'none';\n    })();\n  </script>\n</div>`;\n        parentElement.appendChild(quickchartButtonContainerElement);\n      }\n\n      appendQuickchartButton(table);\n    "
          },
          "metadata": {},
          "execution_count": 9
        }
      ]
    },
    {
      "cell_type": "code",
      "source": [
        "retrieved_ids = set(df_notes['ROW_ID'].tolist())\n",
        "\n",
        "\n",
        "original_ids = set(patient_ids)\n",
        "\n",
        "missing_ids = original_ids - retrieved_ids\n",
        "\n",
        "print(\"Missing ROW_IDs:\", missing_ids)"
      ],
      "metadata": {
        "id": "DB-pvbJ_cfXv",
        "outputId": "e5a0d3e6-caa2-4845-baa6-56f2b99d8b45",
        "colab": {
          "base_uri": "https://localhost:8080/"
        }
      },
      "execution_count": null,
      "outputs": [
        {
          "output_type": "stream",
          "name": "stdout",
          "text": [
            "Missing ROW_IDs: set()\n"
          ]
        },
        {
          "output_type": "stream",
          "name": "stderr",
          "text": [
            "/usr/local/lib/python3.10/dist-packages/ipykernel/ipkernel.py:283: DeprecationWarning: `should_run_async` will not call `transform_cell` automatically in the future. Please pass the result to `transformed_cell` argument and any exception that happen during thetransform in `preprocessing_exc_tuple` in IPython 7.17 and above.\n",
            "  and should_run_async(code)\n"
          ]
        }
      ]
    },
    {
      "cell_type": "code",
      "source": [
        "len(df_notes)"
      ],
      "metadata": {
        "id": "k1_XOTjacwgE",
        "outputId": "7a42a0c5-32b4-4458-aa78-8a4165e671f8",
        "colab": {
          "base_uri": "https://localhost:8080/"
        }
      },
      "execution_count": null,
      "outputs": [
        {
          "output_type": "stream",
          "name": "stderr",
          "text": [
            "/usr/local/lib/python3.10/dist-packages/ipykernel/ipkernel.py:283: DeprecationWarning: `should_run_async` will not call `transform_cell` automatically in the future. Please pass the result to `transformed_cell` argument and any exception that happen during thetransform in `preprocessing_exc_tuple` in IPython 7.17 and above.\n",
            "  and should_run_async(code)\n"
          ]
        },
        {
          "output_type": "execute_result",
          "data": {
            "text/plain": [
              "7025"
            ]
          },
          "metadata": {},
          "execution_count": 24
        }
      ]
    }
  ],
  "metadata": {
    "colab": {
      "provenance": []
    },
    "kernelspec": {
      "display_name": "Python 3",
      "name": "python3"
    },
    "language_info": {
      "name": "python"
    },
    "widgets": {
      "application/vnd.jupyter.widget-state+json": {
        "f551da75519a4022848b8e333d21d06b": {
          "model_module": "@jupyter-widgets/controls",
          "model_name": "HBoxModel",
          "model_module_version": "1.5.0",
          "state": {
            "_dom_classes": [],
            "_model_module": "@jupyter-widgets/controls",
            "_model_module_version": "1.5.0",
            "_model_name": "HBoxModel",
            "_view_count": null,
            "_view_module": "@jupyter-widgets/controls",
            "_view_module_version": "1.5.0",
            "_view_name": "HBoxView",
            "box_style": "",
            "children": [
              "IPY_MODEL_46d0b6af59284293946c430c5b7db153",
              "IPY_MODEL_590463f478be404996b1beca8f8c0109",
              "IPY_MODEL_00d4c9e254d44c9cb688068edf01c86c"
            ],
            "layout": "IPY_MODEL_6a4cf57268964a55899b669763b6105d"
          }
        },
        "46d0b6af59284293946c430c5b7db153": {
          "model_module": "@jupyter-widgets/controls",
          "model_name": "HTMLModel",
          "model_module_version": "1.5.0",
          "state": {
            "_dom_classes": [],
            "_model_module": "@jupyter-widgets/controls",
            "_model_module_version": "1.5.0",
            "_model_name": "HTMLModel",
            "_view_count": null,
            "_view_module": "@jupyter-widgets/controls",
            "_view_module_version": "1.5.0",
            "_view_name": "HTMLView",
            "description": "",
            "description_tooltip": null,
            "layout": "IPY_MODEL_4bd699e6042f44f38106cb45733d923a",
            "placeholder": "​",
            "style": "IPY_MODEL_bb7cc0ad4b7e4530b17ee8e765d06f31",
            "value": "Job ID 8ce15189-fc91-4625-8ae3-c191273179d9 successfully executed: 100%"
          }
        },
        "590463f478be404996b1beca8f8c0109": {
          "model_module": "@jupyter-widgets/controls",
          "model_name": "FloatProgressModel",
          "model_module_version": "1.5.0",
          "state": {
            "_dom_classes": [],
            "_model_module": "@jupyter-widgets/controls",
            "_model_module_version": "1.5.0",
            "_model_name": "FloatProgressModel",
            "_view_count": null,
            "_view_module": "@jupyter-widgets/controls",
            "_view_module_version": "1.5.0",
            "_view_name": "ProgressView",
            "bar_style": "success",
            "description": "",
            "description_tooltip": null,
            "layout": "IPY_MODEL_d8828694491b4286999a9291684d3f25",
            "max": 1,
            "min": 0,
            "orientation": "horizontal",
            "style": "IPY_MODEL_76d7cf298b2b4b32a11f2e96ed31ba3f",
            "value": 1
          }
        },
        "00d4c9e254d44c9cb688068edf01c86c": {
          "model_module": "@jupyter-widgets/controls",
          "model_name": "HTMLModel",
          "model_module_version": "1.5.0",
          "state": {
            "_dom_classes": [],
            "_model_module": "@jupyter-widgets/controls",
            "_model_module_version": "1.5.0",
            "_model_name": "HTMLModel",
            "_view_count": null,
            "_view_module": "@jupyter-widgets/controls",
            "_view_module_version": "1.5.0",
            "_view_name": "HTMLView",
            "description": "",
            "description_tooltip": null,
            "layout": "IPY_MODEL_254f35233e3f45c1a90f6109ff6cda3f",
            "placeholder": "​",
            "style": "IPY_MODEL_2b645c18cfb648dea3765c73e45aa437",
            "value": ""
          }
        },
        "6a4cf57268964a55899b669763b6105d": {
          "model_module": "@jupyter-widgets/base",
          "model_name": "LayoutModel",
          "model_module_version": "1.2.0",
          "state": {
            "_model_module": "@jupyter-widgets/base",
            "_model_module_version": "1.2.0",
            "_model_name": "LayoutModel",
            "_view_count": null,
            "_view_module": "@jupyter-widgets/base",
            "_view_module_version": "1.2.0",
            "_view_name": "LayoutView",
            "align_content": null,
            "align_items": null,
            "align_self": null,
            "border": null,
            "bottom": null,
            "display": null,
            "flex": null,
            "flex_flow": null,
            "grid_area": null,
            "grid_auto_columns": null,
            "grid_auto_flow": null,
            "grid_auto_rows": null,
            "grid_column": null,
            "grid_gap": null,
            "grid_row": null,
            "grid_template_areas": null,
            "grid_template_columns": null,
            "grid_template_rows": null,
            "height": null,
            "justify_content": null,
            "justify_items": null,
            "left": null,
            "margin": null,
            "max_height": null,
            "max_width": null,
            "min_height": null,
            "min_width": null,
            "object_fit": null,
            "object_position": null,
            "order": null,
            "overflow": null,
            "overflow_x": null,
            "overflow_y": null,
            "padding": null,
            "right": null,
            "top": null,
            "visibility": null,
            "width": null
          }
        },
        "4bd699e6042f44f38106cb45733d923a": {
          "model_module": "@jupyter-widgets/base",
          "model_name": "LayoutModel",
          "model_module_version": "1.2.0",
          "state": {
            "_model_module": "@jupyter-widgets/base",
            "_model_module_version": "1.2.0",
            "_model_name": "LayoutModel",
            "_view_count": null,
            "_view_module": "@jupyter-widgets/base",
            "_view_module_version": "1.2.0",
            "_view_name": "LayoutView",
            "align_content": null,
            "align_items": null,
            "align_self": null,
            "border": null,
            "bottom": null,
            "display": null,
            "flex": null,
            "flex_flow": null,
            "grid_area": null,
            "grid_auto_columns": null,
            "grid_auto_flow": null,
            "grid_auto_rows": null,
            "grid_column": null,
            "grid_gap": null,
            "grid_row": null,
            "grid_template_areas": null,
            "grid_template_columns": null,
            "grid_template_rows": null,
            "height": null,
            "justify_content": null,
            "justify_items": null,
            "left": null,
            "margin": null,
            "max_height": null,
            "max_width": null,
            "min_height": null,
            "min_width": null,
            "object_fit": null,
            "object_position": null,
            "order": null,
            "overflow": null,
            "overflow_x": null,
            "overflow_y": null,
            "padding": null,
            "right": null,
            "top": null,
            "visibility": null,
            "width": null
          }
        },
        "bb7cc0ad4b7e4530b17ee8e765d06f31": {
          "model_module": "@jupyter-widgets/controls",
          "model_name": "DescriptionStyleModel",
          "model_module_version": "1.5.0",
          "state": {
            "_model_module": "@jupyter-widgets/controls",
            "_model_module_version": "1.5.0",
            "_model_name": "DescriptionStyleModel",
            "_view_count": null,
            "_view_module": "@jupyter-widgets/base",
            "_view_module_version": "1.2.0",
            "_view_name": "StyleView",
            "description_width": ""
          }
        },
        "d8828694491b4286999a9291684d3f25": {
          "model_module": "@jupyter-widgets/base",
          "model_name": "LayoutModel",
          "model_module_version": "1.2.0",
          "state": {
            "_model_module": "@jupyter-widgets/base",
            "_model_module_version": "1.2.0",
            "_model_name": "LayoutModel",
            "_view_count": null,
            "_view_module": "@jupyter-widgets/base",
            "_view_module_version": "1.2.0",
            "_view_name": "LayoutView",
            "align_content": null,
            "align_items": null,
            "align_self": null,
            "border": null,
            "bottom": null,
            "display": null,
            "flex": null,
            "flex_flow": null,
            "grid_area": null,
            "grid_auto_columns": null,
            "grid_auto_flow": null,
            "grid_auto_rows": null,
            "grid_column": null,
            "grid_gap": null,
            "grid_row": null,
            "grid_template_areas": null,
            "grid_template_columns": null,
            "grid_template_rows": null,
            "height": null,
            "justify_content": null,
            "justify_items": null,
            "left": null,
            "margin": null,
            "max_height": null,
            "max_width": null,
            "min_height": null,
            "min_width": null,
            "object_fit": null,
            "object_position": null,
            "order": null,
            "overflow": null,
            "overflow_x": null,
            "overflow_y": null,
            "padding": null,
            "right": null,
            "top": null,
            "visibility": null,
            "width": null
          }
        },
        "76d7cf298b2b4b32a11f2e96ed31ba3f": {
          "model_module": "@jupyter-widgets/controls",
          "model_name": "ProgressStyleModel",
          "model_module_version": "1.5.0",
          "state": {
            "_model_module": "@jupyter-widgets/controls",
            "_model_module_version": "1.5.0",
            "_model_name": "ProgressStyleModel",
            "_view_count": null,
            "_view_module": "@jupyter-widgets/base",
            "_view_module_version": "1.2.0",
            "_view_name": "StyleView",
            "bar_color": null,
            "description_width": ""
          }
        },
        "254f35233e3f45c1a90f6109ff6cda3f": {
          "model_module": "@jupyter-widgets/base",
          "model_name": "LayoutModel",
          "model_module_version": "1.2.0",
          "state": {
            "_model_module": "@jupyter-widgets/base",
            "_model_module_version": "1.2.0",
            "_model_name": "LayoutModel",
            "_view_count": null,
            "_view_module": "@jupyter-widgets/base",
            "_view_module_version": "1.2.0",
            "_view_name": "LayoutView",
            "align_content": null,
            "align_items": null,
            "align_self": null,
            "border": null,
            "bottom": null,
            "display": null,
            "flex": null,
            "flex_flow": null,
            "grid_area": null,
            "grid_auto_columns": null,
            "grid_auto_flow": null,
            "grid_auto_rows": null,
            "grid_column": null,
            "grid_gap": null,
            "grid_row": null,
            "grid_template_areas": null,
            "grid_template_columns": null,
            "grid_template_rows": null,
            "height": null,
            "justify_content": null,
            "justify_items": null,
            "left": null,
            "margin": null,
            "max_height": null,
            "max_width": null,
            "min_height": null,
            "min_width": null,
            "object_fit": null,
            "object_position": null,
            "order": null,
            "overflow": null,
            "overflow_x": null,
            "overflow_y": null,
            "padding": null,
            "right": null,
            "top": null,
            "visibility": null,
            "width": null
          }
        },
        "2b645c18cfb648dea3765c73e45aa437": {
          "model_module": "@jupyter-widgets/controls",
          "model_name": "DescriptionStyleModel",
          "model_module_version": "1.5.0",
          "state": {
            "_model_module": "@jupyter-widgets/controls",
            "_model_module_version": "1.5.0",
            "_model_name": "DescriptionStyleModel",
            "_view_count": null,
            "_view_module": "@jupyter-widgets/base",
            "_view_module_version": "1.2.0",
            "_view_name": "StyleView",
            "description_width": ""
          }
        },
        "fd9e38133c984cbd9138c51fa2029a03": {
          "model_module": "@jupyter-widgets/controls",
          "model_name": "HBoxModel",
          "model_module_version": "1.5.0",
          "state": {
            "_dom_classes": [],
            "_model_module": "@jupyter-widgets/controls",
            "_model_module_version": "1.5.0",
            "_model_name": "HBoxModel",
            "_view_count": null,
            "_view_module": "@jupyter-widgets/controls",
            "_view_module_version": "1.5.0",
            "_view_name": "HBoxView",
            "box_style": "",
            "children": [
              "IPY_MODEL_2710e4d97ba047e885f7f9683f6b9db8",
              "IPY_MODEL_d66b1eac54754e2589e46ec7950da3d9",
              "IPY_MODEL_8ec803f52936430a87048f93a21c3120"
            ],
            "layout": "IPY_MODEL_190f7b006d8b4441bd26a890a27d7f1b"
          }
        },
        "2710e4d97ba047e885f7f9683f6b9db8": {
          "model_module": "@jupyter-widgets/controls",
          "model_name": "HTMLModel",
          "model_module_version": "1.5.0",
          "state": {
            "_dom_classes": [],
            "_model_module": "@jupyter-widgets/controls",
            "_model_module_version": "1.5.0",
            "_model_name": "HTMLModel",
            "_view_count": null,
            "_view_module": "@jupyter-widgets/controls",
            "_view_module_version": "1.5.0",
            "_view_name": "HTMLView",
            "description": "",
            "description_tooltip": null,
            "layout": "IPY_MODEL_d84b4f52e585487899f6f1db06692722",
            "placeholder": "​",
            "style": "IPY_MODEL_8267348534dd45c79758e83e517a5aa5",
            "value": "Downloading: 100%"
          }
        },
        "d66b1eac54754e2589e46ec7950da3d9": {
          "model_module": "@jupyter-widgets/controls",
          "model_name": "FloatProgressModel",
          "model_module_version": "1.5.0",
          "state": {
            "_dom_classes": [],
            "_model_module": "@jupyter-widgets/controls",
            "_model_module_version": "1.5.0",
            "_model_name": "FloatProgressModel",
            "_view_count": null,
            "_view_module": "@jupyter-widgets/controls",
            "_view_module_version": "1.5.0",
            "_view_name": "ProgressView",
            "bar_style": "success",
            "description": "",
            "description_tooltip": null,
            "layout": "IPY_MODEL_75970bed6f3f4925bbf829ae9a0386df",
            "max": 1,
            "min": 0,
            "orientation": "horizontal",
            "style": "IPY_MODEL_0844e4f419fb470bbcb7649729a758fd",
            "value": 1
          }
        },
        "8ec803f52936430a87048f93a21c3120": {
          "model_module": "@jupyter-widgets/controls",
          "model_name": "HTMLModel",
          "model_module_version": "1.5.0",
          "state": {
            "_dom_classes": [],
            "_model_module": "@jupyter-widgets/controls",
            "_model_module_version": "1.5.0",
            "_model_name": "HTMLModel",
            "_view_count": null,
            "_view_module": "@jupyter-widgets/controls",
            "_view_module_version": "1.5.0",
            "_view_name": "HTMLView",
            "description": "",
            "description_tooltip": null,
            "layout": "IPY_MODEL_b1008b4a9e2f43699726546637b763e1",
            "placeholder": "​",
            "style": "IPY_MODEL_751e9f0e64454e14b3f26de20f42c905",
            "value": ""
          }
        },
        "190f7b006d8b4441bd26a890a27d7f1b": {
          "model_module": "@jupyter-widgets/base",
          "model_name": "LayoutModel",
          "model_module_version": "1.2.0",
          "state": {
            "_model_module": "@jupyter-widgets/base",
            "_model_module_version": "1.2.0",
            "_model_name": "LayoutModel",
            "_view_count": null,
            "_view_module": "@jupyter-widgets/base",
            "_view_module_version": "1.2.0",
            "_view_name": "LayoutView",
            "align_content": null,
            "align_items": null,
            "align_self": null,
            "border": null,
            "bottom": null,
            "display": null,
            "flex": null,
            "flex_flow": null,
            "grid_area": null,
            "grid_auto_columns": null,
            "grid_auto_flow": null,
            "grid_auto_rows": null,
            "grid_column": null,
            "grid_gap": null,
            "grid_row": null,
            "grid_template_areas": null,
            "grid_template_columns": null,
            "grid_template_rows": null,
            "height": null,
            "justify_content": null,
            "justify_items": null,
            "left": null,
            "margin": null,
            "max_height": null,
            "max_width": null,
            "min_height": null,
            "min_width": null,
            "object_fit": null,
            "object_position": null,
            "order": null,
            "overflow": null,
            "overflow_x": null,
            "overflow_y": null,
            "padding": null,
            "right": null,
            "top": null,
            "visibility": null,
            "width": null
          }
        },
        "d84b4f52e585487899f6f1db06692722": {
          "model_module": "@jupyter-widgets/base",
          "model_name": "LayoutModel",
          "model_module_version": "1.2.0",
          "state": {
            "_model_module": "@jupyter-widgets/base",
            "_model_module_version": "1.2.0",
            "_model_name": "LayoutModel",
            "_view_count": null,
            "_view_module": "@jupyter-widgets/base",
            "_view_module_version": "1.2.0",
            "_view_name": "LayoutView",
            "align_content": null,
            "align_items": null,
            "align_self": null,
            "border": null,
            "bottom": null,
            "display": null,
            "flex": null,
            "flex_flow": null,
            "grid_area": null,
            "grid_auto_columns": null,
            "grid_auto_flow": null,
            "grid_auto_rows": null,
            "grid_column": null,
            "grid_gap": null,
            "grid_row": null,
            "grid_template_areas": null,
            "grid_template_columns": null,
            "grid_template_rows": null,
            "height": null,
            "justify_content": null,
            "justify_items": null,
            "left": null,
            "margin": null,
            "max_height": null,
            "max_width": null,
            "min_height": null,
            "min_width": null,
            "object_fit": null,
            "object_position": null,
            "order": null,
            "overflow": null,
            "overflow_x": null,
            "overflow_y": null,
            "padding": null,
            "right": null,
            "top": null,
            "visibility": null,
            "width": null
          }
        },
        "8267348534dd45c79758e83e517a5aa5": {
          "model_module": "@jupyter-widgets/controls",
          "model_name": "DescriptionStyleModel",
          "model_module_version": "1.5.0",
          "state": {
            "_model_module": "@jupyter-widgets/controls",
            "_model_module_version": "1.5.0",
            "_model_name": "DescriptionStyleModel",
            "_view_count": null,
            "_view_module": "@jupyter-widgets/base",
            "_view_module_version": "1.2.0",
            "_view_name": "StyleView",
            "description_width": ""
          }
        },
        "75970bed6f3f4925bbf829ae9a0386df": {
          "model_module": "@jupyter-widgets/base",
          "model_name": "LayoutModel",
          "model_module_version": "1.2.0",
          "state": {
            "_model_module": "@jupyter-widgets/base",
            "_model_module_version": "1.2.0",
            "_model_name": "LayoutModel",
            "_view_count": null,
            "_view_module": "@jupyter-widgets/base",
            "_view_module_version": "1.2.0",
            "_view_name": "LayoutView",
            "align_content": null,
            "align_items": null,
            "align_self": null,
            "border": null,
            "bottom": null,
            "display": null,
            "flex": null,
            "flex_flow": null,
            "grid_area": null,
            "grid_auto_columns": null,
            "grid_auto_flow": null,
            "grid_auto_rows": null,
            "grid_column": null,
            "grid_gap": null,
            "grid_row": null,
            "grid_template_areas": null,
            "grid_template_columns": null,
            "grid_template_rows": null,
            "height": null,
            "justify_content": null,
            "justify_items": null,
            "left": null,
            "margin": null,
            "max_height": null,
            "max_width": null,
            "min_height": null,
            "min_width": null,
            "object_fit": null,
            "object_position": null,
            "order": null,
            "overflow": null,
            "overflow_x": null,
            "overflow_y": null,
            "padding": null,
            "right": null,
            "top": null,
            "visibility": null,
            "width": null
          }
        },
        "0844e4f419fb470bbcb7649729a758fd": {
          "model_module": "@jupyter-widgets/controls",
          "model_name": "ProgressStyleModel",
          "model_module_version": "1.5.0",
          "state": {
            "_model_module": "@jupyter-widgets/controls",
            "_model_module_version": "1.5.0",
            "_model_name": "ProgressStyleModel",
            "_view_count": null,
            "_view_module": "@jupyter-widgets/base",
            "_view_module_version": "1.2.0",
            "_view_name": "StyleView",
            "bar_color": null,
            "description_width": ""
          }
        },
        "b1008b4a9e2f43699726546637b763e1": {
          "model_module": "@jupyter-widgets/base",
          "model_name": "LayoutModel",
          "model_module_version": "1.2.0",
          "state": {
            "_model_module": "@jupyter-widgets/base",
            "_model_module_version": "1.2.0",
            "_model_name": "LayoutModel",
            "_view_count": null,
            "_view_module": "@jupyter-widgets/base",
            "_view_module_version": "1.2.0",
            "_view_name": "LayoutView",
            "align_content": null,
            "align_items": null,
            "align_self": null,
            "border": null,
            "bottom": null,
            "display": null,
            "flex": null,
            "flex_flow": null,
            "grid_area": null,
            "grid_auto_columns": null,
            "grid_auto_flow": null,
            "grid_auto_rows": null,
            "grid_column": null,
            "grid_gap": null,
            "grid_row": null,
            "grid_template_areas": null,
            "grid_template_columns": null,
            "grid_template_rows": null,
            "height": null,
            "justify_content": null,
            "justify_items": null,
            "left": null,
            "margin": null,
            "max_height": null,
            "max_width": null,
            "min_height": null,
            "min_width": null,
            "object_fit": null,
            "object_position": null,
            "order": null,
            "overflow": null,
            "overflow_x": null,
            "overflow_y": null,
            "padding": null,
            "right": null,
            "top": null,
            "visibility": null,
            "width": null
          }
        },
        "751e9f0e64454e14b3f26de20f42c905": {
          "model_module": "@jupyter-widgets/controls",
          "model_name": "DescriptionStyleModel",
          "model_module_version": "1.5.0",
          "state": {
            "_model_module": "@jupyter-widgets/controls",
            "_model_module_version": "1.5.0",
            "_model_name": "DescriptionStyleModel",
            "_view_count": null,
            "_view_module": "@jupyter-widgets/base",
            "_view_module_version": "1.2.0",
            "_view_name": "StyleView",
            "description_width": ""
          }
        }
      }
    }
  },
  "nbformat": 4,
  "nbformat_minor": 0
}